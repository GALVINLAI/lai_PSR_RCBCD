{
 "cells": [
  {
   "cell_type": "markdown",
   "metadata": {},
   "source": [
    "给定函数 $f(x) = \\frac{1}{2} \\langle [A(x)^{\\top} A(x)]^{-1}, p p^{\\top} \\rangle$，我们需要求它关于向量 $x$ 的梯度。\n",
    "\n",
    "首先，注意到函数的形式中包含了矩阵的逆，因此我们需要用到矩阵求导的相关知识。特别是，我们要用到以下两个公式：\n",
    "\n",
    "1. **矩阵求导公式**: 如果 $A(x)$ 是关于 $x$ 的矩阵，那么 $A(x)^{-1}$ 关于 $x$ 的导数是：\n",
    "$$\n",
    "    \\frac{\\partial A(x)^{-1}}{\\partial x_i} = -A(x)^{-1} \\frac{\\partial A(x)}{\\partial x_i} A(x)^{-1}\n",
    "$$\n",
    "2. **迹函数的求导公式**: 对于标量函数 $f(x) = \\text{Tr}(B(x))$，其中 $B(x)$ 是关于 $x$ 的矩阵，有：\n",
    "$$\n",
    "    \\frac{\\partial f(x)}{\\partial x_i} = \\text{Tr}\\left(\\frac{\\partial B(x)}{\\partial x_i}\\right)\n",
    "$$\n",
    "### 具体推导步骤\n",
    "\n",
    "**Step 1**: 将函数 $f(x)$ 重新表达为迹的形式：\n",
    "$$\n",
    "    f(x) = \\frac{1}{2} \\text{Tr} \\left( [A(x)^{\\top} A(x)]^{-1} p p^{\\top} \\right)\n",
    "$$\n",
    "**Step 2**: 利用迹函数求导的公式，对 $x$ 求导：\n",
    "$$\n",
    "    \\frac{\\partial f(x)}{\\partial x_i} = \\frac{1}{2} \\text{Tr} \\left( \\frac{\\partial [A(x)^{\\top} A(x)]^{-1}}{\\partial x_i} p p^{\\top} \\right)\n",
    "$$\n",
    "**Step 3**: 代入矩阵逆的求导公式：\n",
    "$$\n",
    "    \\frac{\\partial [A(x)^{\\top} A(x)]^{-1}}{\\partial x_i} = -[A(x)^{\\top} A(x)]^{-1} \\frac{\\partial [A(x)^{\\top} A(x)]}{\\partial x_i} [A(x)^{\\top} A(x)]^{-1}\n",
    "$$\n",
    "因此：\n",
    "$$\n",
    "    \\frac{\\partial f(x)}{\\partial x_i} = -\\frac{1}{2} \\text{Tr} \\left( [A(x)^{\\top} A(x)]^{-1} \\frac{\\partial [A(x)^{\\top} A(x)]}{\\partial x_i} [A(x)^{\\top} A(x)]^{-1} p p^{\\top} \\right)\n",
    "$$\n",
    "**Step 4**: 进一步简化 $\\frac{\\partial [A(x)^{\\top} A(x)]}{\\partial x_i}$：\n",
    "$$\n",
    "    \\frac{\\partial [A(x)^{\\top} A(x)]}{\\partial x_i} = \\frac{\\partial A(x)^{\\top}}{\\partial x_i} A(x) + A(x)^{\\top} \\frac{\\partial A(x)}{\\partial x_i}\n",
    "$$\n",
    "所以最终梯度表达式为：\n",
    "$$\n",
    "    \\frac{\\partial f(x)}{\\partial x_i} = -\\frac{1}{2} \\text{Tr} \\left( [A(x)^{\\top} A(x)]^{-1} \\left(\\frac{\\partial A(x)^{\\top}}{\\partial x_i} A(x) + A(x)^{\\top} \\frac{\\partial A(x)}{\\partial x_i}\\right) [A(x)^{\\top} A(x)]^{-1} p p^{\\top} \\right)\n",
    "$$\n",
    "**Step 5**: 将结果整合为梯度向量的形式 $\\nabla_x f(x)$：\n",
    "\n",
    "梯度向量 $\\nabla_x f(x)$ 的每个分量 $i$ 都是上面表达式的对应部分，因此最终结果为：\n",
    "$$\n",
    "    \\nabla_x f(x) = -\\frac{1}{2} \\sum_{i=1}^{r} \\text{Tr} \\left( [A(x)^{\\top} A(x)]^{-1} \\left(\\frac{\\partial A(x)^{\\top}}{\\partial x_i} A(x) + A(x)^{\\top} \\frac{\\partial A(x)}{\\partial x_i}\\right) [A(x)^{\\top} A(x)]^{-1} p p^{\\top} \\right) e_i\n",
    "$$\n",
    "其中 $e_i$ 是标准基向量。\n",
    "\n",
    "这就是函数 $f(x)$ 关于向量 $x$ 的梯度。\n"
   ]
  },
  {
   "cell_type": "code",
   "execution_count": null,
   "metadata": {},
   "outputs": [],
   "source": [
    "\n"
   ]
  },
  {
   "cell_type": "code",
   "execution_count": 596,
   "metadata": {},
   "outputs": [
    {
     "data": {
      "text/plain": [
       "(array([ 5000626.09585663,  3392814.24566668, 71935496.19069904]),\n",
       " array([ 5001016.86467865,  3392315.38552513, 71936399.43788822]),\n",
       " False)"
      ]
     },
     "execution_count": 596,
     "metadata": {},
     "output_type": "execute_result"
    }
   ],
   "source": [
    "# 等距eigenvalue下的梯度计算\n",
    "\n",
    "import numpy as np\n",
    "from scipy.linalg import inv\n",
    "from scipy.optimize import approx_fprime\n",
    "\n",
    "# Define the function to compute f(x)\n",
    "r = 3\n",
    "p = np.arange(1,r+1)\n",
    "\n",
    "def f(x):\n",
    "    r = len(x)\n",
    "    A = np.array([[np.sin(k * x[i]) for k in range(1, r+1)] for i in range(r)])\n",
    "    A_t_A_inv = inv(A.T @ A)\n",
    "    return 0.5 * np.trace(A_t_A_inv @ np.outer(p, p))\n",
    "\n",
    "# Define the analytical gradient computation\n",
    "def analytical_gradient(x):\n",
    "    r = len(x)\n",
    "    A = np.array([[np.sin(k * x[i]) for k in range(1, r+1)] for i in range(r)])\n",
    "    A_1 = np.array([[k * np.cos(k * x[i]) for k in range(1, r+1)] for i in range(r)])\n",
    "    A_t_A_inv = np.linalg.inv(A.T @ A)\n",
    "    D = A_1 @ A_t_A_inv @ np.outer(p, p) @ np.linalg.inv(A)\n",
    "    grad = - np.diag(D)\n",
    "    return grad\n",
    "\n",
    "# Define the function to compute numerical gradient\n",
    "def numerical_gradient(x, epsilon=1e-8):\n",
    "    return approx_fprime(x, lambda x: f(x), epsilon)\n",
    "\n",
    "# Test case\n",
    "\n",
    "x = np.random.uniform(0, np.pi, r)\n",
    "# x = np.array([(2 * mu - 1) / (2 * r) * np.pi for mu in range(1, r + 1)])\n",
    "\n",
    "# Compute analytical and numerical gradients\n",
    "grad_analytical = analytical_gradient(x)\n",
    "grad_numerical = numerical_gradient(x)\n",
    "\n",
    "grad_analytical, grad_numerical, np.allclose(grad_analytical, grad_numerical, rtol=1e-5, atol=1e-5)\n"
   ]
  },
  {
   "cell_type": "code",
   "execution_count": 597,
   "metadata": {},
   "outputs": [
    {
     "data": {
      "text/plain": [
       "(array([-7.89377416,  4.14661762]), array([-7.89377359,  4.14661787]), True)"
      ]
     },
     "execution_count": 597,
     "metadata": {},
     "output_type": "execute_result"
    }
   ],
   "source": [
    "# 非等距eigenvalue下的梯度计算，可以只考虑任意奇数阶的PSR\n",
    "\n",
    "import numpy as np\n",
    "from scipy.linalg import inv\n",
    "from scipy.optimize import approx_fprime\n",
    "\n",
    "d = 1\n",
    "\n",
    "# Define the function to compute f(x)\n",
    "r = 2\n",
    "Omegas = np.random.rand(r) * 10  # Example frequencies\n",
    "Omegas = np.arange(1, r + 1)  # Example frequencies\n",
    "\n",
    "p = Omegas ** d * (-1 if d % 4 == 3 else 1)\n",
    "\n",
    "def f(x):\n",
    "    A = np.sin(np.outer(x, Omegas))\n",
    "    A_t_A_inv = inv(A.T @ A)\n",
    "    return 0.5 * np.trace(A_t_A_inv @ np.outer(p, p))\n",
    "\n",
    "# Define the analytical gradient computation\n",
    "def analytical_gradient(x):\n",
    "    A = np.sin(np.outer(x, Omegas))\n",
    "    # # 使用 NumPy 的广播机制，将 b 的元素分别乘以 A 的列\n",
    "    A_1 =  np.cos(np.outer(x, Omegas)) * Omegas\n",
    "    A_inv = np.linalg.inv(A)\n",
    "    b = np.linalg.inv(A.T) @ p\n",
    "    # A_t_A_inv = np.linalg.inv(A.T @ A)\n",
    "    # D = A_1 @ A_t_A_inv @ np.outer(p, p) @ np.linalg.inv(A)\n",
    "    grad = - np.diag(A_1 @ A_inv @ np.outer(b, b))\n",
    "    return grad\n",
    "\n",
    "# Define the function to compute numerical gradient\n",
    "def numerical_gradient(x, epsilon=1e-8):\n",
    "    return approx_fprime(x, lambda x: f(x), epsilon)\n",
    "\n",
    "# Test case\n",
    "\n",
    "x = np.random.uniform(0, np.pi, r)\n",
    "# x = np.array([(2 * mu - 1) / (2 * r) * np.pi for mu in range(1, r + 1)])\n",
    "\n",
    "# Compute analytical and numerical gradients\n",
    "grad_analytical = analytical_gradient(x)\n",
    "grad_numerical = numerical_gradient(x)\n",
    "\n",
    "grad_analytical, grad_numerical, np.allclose(grad_analytical, grad_numerical, rtol=1e-5, atol=1e-5)\n"
   ]
  },
  {
   "cell_type": "code",
   "execution_count": 598,
   "metadata": {},
   "outputs": [],
   "source": [
    "from scipy.optimize import minimize\n",
    "\n",
    "# Set the bounds for each element of x to be between 0 and pi\n",
    "bounds = [(0, np.pi)] * r  # r is the dimensionality of x\n",
    "\n",
    "# Use minimize function with bounds to find the optimal x\n",
    "result = minimize(f, x, jac=analytical_gradient, method='BFGS')\n",
    "\n",
    "# Optimal x and the corresponding minimum value of f(x)\n",
    "optimal_x = result.x\n",
    "\n",
    "\n",
    "# optimal_x, minimum_f\n"
   ]
  },
  {
   "cell_type": "code",
   "execution_count": 599,
   "metadata": {},
   "outputs": [
    {
     "data": {
      "text/plain": [
       "array([ 1.85600000e-06, -5.59495441e-06])"
      ]
     },
     "execution_count": 599,
     "metadata": {},
     "output_type": "execute_result"
    }
   ],
   "source": [
    "analytical_gradient(optimal_x)"
   ]
  },
  {
   "cell_type": "code",
   "execution_count": 600,
   "metadata": {},
   "outputs": [
    {
     "data": {
      "text/plain": [
       "array([[ 1.07344694, -0.12994567],\n",
       "       [-0.12994567,  0.56324366]])"
      ]
     },
     "execution_count": 600,
     "metadata": {},
     "output_type": "execute_result"
    }
   ],
   "source": [
    "x=optimal_x\n",
    "A = np.sin(np.outer(x, Omegas))\n",
    "# # 使用 NumPy 的广播机制，将 b 的元素分别乘以 A 的列\n",
    "A_1 =  np.cos(np.outer(x, Omegas)) * Omegas\n",
    "A_inv = np.linalg.inv(A)\n",
    "np.linalg.inv(A.T @ A)"
   ]
  },
  {
   "cell_type": "code",
   "execution_count": 601,
   "metadata": {},
   "outputs": [
    {
     "data": {
      "text/plain": [
       "array([[0.95834346, 0.22109895],\n",
       "       [0.22109895, 1.82644017]])"
      ]
     },
     "execution_count": 601,
     "metadata": {},
     "output_type": "execute_result"
    }
   ],
   "source": [
    "A.T @ A"
   ]
  },
  {
   "cell_type": "code",
   "execution_count": 602,
   "metadata": {},
   "outputs": [
    {
     "data": {
      "text/plain": [
       "array([[-1.85600000e-06,  6.35229992e-06],\n",
       "       [-1.63472058e-06,  5.59495441e-06]])"
      ]
     },
     "execution_count": 602,
     "metadata": {},
     "output_type": "execute_result"
    }
   ],
   "source": [
    "b = np.linalg.inv(A.T) @ p\n",
    "# A_t_A_inv = np.linalg.inv(A.T @ A)\n",
    "# D = A_1 @ A_t_A_inv @ np.outer(p, p) @ np.linalg.inv(A)\n",
    "E = A_1 @ A_inv @ np.outer(b, b)\n",
    "E"
   ]
  },
  {
   "cell_type": "code",
   "execution_count": 603,
   "metadata": {},
   "outputs": [
    {
     "data": {
      "text/plain": [
       "array([-0.46984195,  1.60806948])"
      ]
     },
     "execution_count": 603,
     "metadata": {},
     "output_type": "execute_result"
    }
   ],
   "source": [
    "b"
   ]
  },
  {
   "cell_type": "code",
   "execution_count": 604,
   "metadata": {},
   "outputs": [
    {
     "data": {
      "text/plain": [
       "array([2.52608503, 0.91172157])"
      ]
     },
     "execution_count": 604,
     "metadata": {},
     "output_type": "execute_result"
    }
   ],
   "source": [
    "optimal_x"
   ]
  },
  {
   "cell_type": "code",
   "execution_count": 605,
   "metadata": {},
   "outputs": [
    {
     "data": {
      "text/plain": [
       "array([0.80407784, 0.29020999])"
      ]
     },
     "execution_count": 605,
     "metadata": {},
     "output_type": "execute_result"
    }
   ],
   "source": [
    "optimal_x_pi  = optimal_x/np.pi\n",
    "optimal_x_pi"
   ]
  },
  {
   "cell_type": "code",
   "execution_count": 606,
   "metadata": {},
   "outputs": [
    {
     "data": {
      "text/plain": [
       "1.0471975511965976"
      ]
     },
     "execution_count": 606,
     "metadata": {},
     "output_type": "execute_result"
    }
   ],
   "source": [
    "np.pi/3"
   ]
  },
  {
   "cell_type": "code",
   "execution_count": 607,
   "metadata": {},
   "outputs": [
    {
     "data": {
      "text/plain": [
       "array([[-1.01005204, -0.29511216],\n",
       "       [ 0.75756641,  0.22134613]])"
      ]
     },
     "execution_count": 607,
     "metadata": {},
     "output_type": "execute_result"
    }
   ],
   "source": [
    "A_1 @ A_inv"
   ]
  },
  {
   "cell_type": "code",
   "execution_count": 608,
   "metadata": {},
   "outputs": [
    {
     "name": "stdout",
     "output_type": "stream",
     "text": [
      "3.950264585883545e-06\n",
      "3.479298926190033e-06\n"
     ]
    }
   ],
   "source": [
    "def p_1_x(x, Omega_values):\n",
    "    return np.array([Omega * np.cos(Omega * x) for Omega in Omega_values]).T\n",
    "\n",
    "for i in range(r):\n",
    "    val = np.inner(p_1_x(x[i], Omegas), np.linalg.inv(A.T @ A) @ p)\n",
    "    print(val)\n"
   ]
  },
  {
   "cell_type": "code",
   "execution_count": 609,
   "metadata": {},
   "outputs": [
    {
     "data": {
      "text/plain": [
       "array([2.52608503, 0.91172157])"
      ]
     },
     "execution_count": 609,
     "metadata": {},
     "output_type": "execute_result"
    }
   ],
   "source": [
    "x"
   ]
  },
  {
   "cell_type": "code",
   "execution_count": 610,
   "metadata": {},
   "outputs": [
    {
     "data": {
      "text/plain": [
       "array([-0.81648046,  0.6665614 ])"
      ]
     },
     "execution_count": 610,
     "metadata": {},
     "output_type": "execute_result"
    }
   ],
   "source": [
    "p_1_x(x[0], Omegas)"
   ]
  },
  {
   "cell_type": "code",
   "execution_count": 611,
   "metadata": {},
   "outputs": [
    {
     "data": {
      "text/plain": [
       "0.516642326255104"
      ]
     },
     "execution_count": 611,
     "metadata": {},
     "output_type": "execute_result"
    }
   ],
   "source": [
    "np.inner(p_1_x(x[0], Omegas),  p)"
   ]
  },
  {
   "cell_type": "code",
   "execution_count": 612,
   "metadata": {},
   "outputs": [],
   "source": [
    "import numpy as np\n",
    "import matplotlib.pyplot as plt\n",
    "\n",
    "def plot_vector_mod_2pi(x):\n",
    "    # 将所有成分 mod 2pi 处理\n",
    "    x_mod = np.mod(x, 2 * np.pi)\n",
    "    \n",
    "    # 将所有成分放到 0 到 pi 之间，如果超过 pi，取关于 pi 对称的那个点\n",
    "    x_adjusted = np.where(x_mod > np.pi, 2 * np.pi - x_mod, x_mod)\n",
    "    \n",
    "    # 创建图形\n",
    "    plt.figure(figsize=(8, 4))\n",
    "    plt.axhline(0, color='black', linewidth=0.5)  # 绘制x轴\n",
    "    plt.scatter(x_adjusted, [0] * len(x_adjusted), color='red', s=100, zorder=3)  # 标注红色点\n",
    "    \n",
    "    # 标记x上的数值\n",
    "    for xi in x_adjusted:\n",
    "        plt.text(xi, 0.02, f'{xi:.2f}', ha='center', fontsize=10, fontweight='bold')\n",
    "    \n",
    "    # 设置 x 轴刻度为 pi 单位\n",
    "    ticks = np.arange(0, np.pi + np.pi/2, np.pi/2)\n",
    "    tick_labels = ['0', r'$\\frac{\\pi}{2}$', r'$\\pi$']\n",
    "    plt.xticks(ticks, tick_labels)\n",
    "\n",
    "    # 设置x轴范围，扩展至稍大于 pi\n",
    "    plt.xlim(0, np.pi + 0.5)\n",
    "    plt.yticks([])  # 隐藏y轴刻度\n",
    "    plt.title('Red Points on x-axis (Adjusted with mod 2pi)', fontsize=14, fontweight='bold')\n",
    "\n",
    "    # 显示图表\n",
    "    plt.show()\n",
    "\n",
    "# 调用函数绘制图形\n",
    "# plot_vector_mod_2pi(optimal_x)\n",
    "\n",
    "\n",
    "# import numpy as np\n",
    "# import matplotlib.pyplot as plt\n",
    "\n",
    "# def plot_vector_mod_2pi(x):\n",
    "#     # 创建图形\n",
    "#     plt.figure(figsize=(8, 4))\n",
    "#     plt.axhline(0, color='black', linewidth=0.5)  # 绘制 x 轴\n",
    "#     plt.scatter(x, [0] * len(x), color='red', s=100, zorder=3)  # 标注红色点\n",
    "    \n",
    "#     # 标记 x 上的数值\n",
    "#     for xi in x:\n",
    "#         plt.text(xi, 0.02, f'{xi:.2f}', ha='center', fontsize=10, fontweight='bold')\n",
    "    \n",
    "#     # 动态设置 x 轴刻度和范围\n",
    "#     max_x = np.max(x)\n",
    "#     ticks = np.arange(0, max_x + np.pi / 2, np.pi / 2)\n",
    "#     tick_labels = [f'{tick:.2f}' for tick in ticks]  # 用数值显示刻度\n",
    "#     plt.xticks(ticks, tick_labels)\n",
    "\n",
    "#     # 设置 x 轴范围，扩展至稍大于最大值\n",
    "#     plt.xlim(0, max_x + 0.5)\n",
    "#     plt.yticks([])  # 隐藏 y 轴刻度\n",
    "#     plt.title('Red Points on x-axis (Original Data)', fontsize=14, fontweight='bold')\n",
    "\n",
    "#     # 显示图表\n",
    "#     plt.show()\n",
    "\n",
    "# # 调用函数绘制图形\n",
    "# # optimal_x = np.array([1, 3, 5, 7, 9])\n",
    "# plot_vector_mod_2pi(optimal_x)\n",
    "\n",
    "\n",
    "\n",
    "\n",
    "\n"
   ]
  },
  {
   "cell_type": "code",
   "execution_count": 613,
   "metadata": {},
   "outputs": [
    {
     "data": {
      "text/plain": [
       "array([2.52608503, 0.91172157])"
      ]
     },
     "execution_count": 613,
     "metadata": {},
     "output_type": "execute_result"
    }
   ],
   "source": [
    "optimal_x"
   ]
  },
  {
   "cell_type": "code",
   "execution_count": 614,
   "metadata": {},
   "outputs": [
    {
     "data": {
      "text/plain": [
       "0.6880395000000001"
      ]
     },
     "execution_count": 614,
     "metadata": {},
     "output_type": "execute_result"
    }
   ],
   "source": [
    "2.08499932-1.39695982"
   ]
  },
  {
   "cell_type": "code",
   "execution_count": 615,
   "metadata": {},
   "outputs": [
    {
     "data": {
      "text/plain": [
       "0.7047815100000001"
      ]
     },
     "execution_count": 615,
     "metadata": {},
     "output_type": "execute_result"
    }
   ],
   "source": [
    "2.78978083-2.08499932"
   ]
  },
  {
   "cell_type": "code",
   "execution_count": 616,
   "metadata": {},
   "outputs": [
    {
     "data": {
      "image/png": "[encoded data removed]",
      "text/plain": [
       "<Figure size 800x400 with 1 Axes>"
      ]
     },
     "metadata": {},
     "output_type": "display_data"
    }
   ],
   "source": [
    "plot_vector_mod_2pi(optimal_x)"
   ]
  },
  {
   "cell_type": "code",
   "execution_count": 617,
   "metadata": {},
   "outputs": [
    {
     "data": {
      "text/plain": [
       "1.4039085583336504"
      ]
     },
     "execution_count": 617,
     "metadata": {},
     "output_type": "execute_result"
    }
   ],
   "source": [
    "f(optimal_x-0.01)"
   ]
  },
  {
   "cell_type": "code",
   "execution_count": 618,
   "metadata": {},
   "outputs": [
    {
     "name": "stdout",
     "output_type": "stream",
     "text": [
      "1.5\n"
     ]
    },
    {
     "data": {
      "image/png": "[encoded data removed]",
      "text/plain": [
       "<Figure size 1000x600 with 1 Axes>"
      ]
     },
     "metadata": {},
     "output_type": "display_data"
    }
   ],
   "source": [
    "import numpy as np\n",
    "import matplotlib.pyplot as plt\n",
    "\n",
    "x = np.array([(2 * mu - 1) / (2 * r) * np.pi for mu in range(1, r + 1)])\n",
    "\n",
    "y_values = np.linspace(-0.3, 0.3, 500)\n",
    "\n",
    "# Compute f(x + y) for all values of y\n",
    "f_values = np.array([f(x + y) for y in y_values])\n",
    "\n",
    "# Find the y value where f(x + y) reaches its minimum\n",
    "min_index = np.argmin(f_values)\n",
    "min_y = y_values[min_index]\n",
    "min_f_value = f_values[min_index]\n",
    "\n",
    "# Plot how f(x + y) changes as y changes\n",
    "plt.figure(figsize=(10, 6))\n",
    "plt.plot(y_values, f_values, label=\"f(x + y)\")\n",
    "\n",
    "# Adding the horizontal line for f at y = 0\n",
    "plt.axhline(y=f(x), color='r', linestyle='--', label=f'f(x) at y=0 = {f(x):.2f}')\n",
    "print(f(x))\n",
    "plt.show()\n"
   ]
  },
  {
   "cell_type": "code",
   "execution_count": 619,
   "metadata": {},
   "outputs": [
    {
     "name": "stdout",
     "output_type": "stream",
     "text": [
      "1.5\n",
      "1.4552671897700575\n",
      "[[1.         0.05184479]\n",
      " [0.05184479 1.98920473]]\n",
      "[[ 1.00135306 -0.02609834]\n",
      " [-0.02609834  0.50339367]]\n"
     ]
    }
   ],
   "source": [
    "x_shift = x + np.random.uniform(0, 0.1, size=())\n",
    "A = np.sin(np.outer(x_shift, Omegas))\n",
    "print(f(x))\n",
    "print(f(x_shift))\n",
    "print(A.T @ A)\n",
    "print(np.linalg.inv(A.T @ A))"
   ]
  },
  {
   "cell_type": "code",
   "execution_count": 620,
   "metadata": {},
   "outputs": [
    {
     "data": {
      "text/plain": [
       "1.404544514798769"
      ]
     },
     "execution_count": 620,
     "metadata": {},
     "output_type": "execute_result"
    }
   ],
   "source": [
    "min(f_values)"
   ]
  },
  {
   "cell_type": "code",
   "execution_count": 621,
   "metadata": {},
   "outputs": [
    {
     "name": "stdout",
     "output_type": "stream",
     "text": [
      "1.404544514798769\n",
      "[[1.         0.18378144]\n",
      " [0.18378144 1.8571518 ]]\n",
      "[[ 1.01852367 -0.10079184]\n",
      " [-0.10079184  0.54843318]]\n"
     ]
    }
   ],
   "source": [
    "A = np.sin(np.outer(x+min_y, Omegas))\n",
    "print(f(x+min_y))\n",
    "print(A.T @ A)\n",
    "print(np.linalg.inv(A.T @ A))"
   ]
  },
  {
   "cell_type": "code",
   "execution_count": 622,
   "metadata": {},
   "outputs": [
    {
     "name": "stdout",
     "output_type": "stream",
     "text": [
      "1.5\n",
      "[[1. 0.]\n",
      " [0. 2.]]\n",
      "[[1.  0. ]\n",
      " [0.  0.5]]\n"
     ]
    }
   ],
   "source": [
    "A = np.sin(np.outer(x, Omegas))\n",
    "print(f(x))\n",
    "print(A.T @ A)\n",
    "print(np.linalg.inv(A.T @ A))"
   ]
  },
  {
   "cell_type": "code",
   "execution_count": 623,
   "metadata": {},
   "outputs": [
    {
     "data": {
      "text/plain": [
       "1.4033194536821623"
      ]
     },
     "execution_count": 623,
     "metadata": {},
     "output_type": "execute_result"
    }
   ],
   "source": [
    "f(optimal_x)"
   ]
  },
  {
   "cell_type": "code",
   "execution_count": 624,
   "metadata": {},
   "outputs": [
    {
     "name": "stdout",
     "output_type": "stream",
     "text": [
      "1.5\n",
      "[1.         1.01333333 1.02666667 1.04       1.05333333 1.06666667\n",
      " 1.08       1.09333333 1.10666667 1.12      ]\n",
      "factor is 1.08\n",
      "x is [0.78539816 2.4818582 ]\n"
     ]
    },
    {
     "data": {
      "image/png": "[encoded data removed]",
      "text/plain": [
       "<Figure size 1000x600 with 1 Axes>"
      ]
     },
     "metadata": {},
     "output_type": "display_data"
    }
   ],
   "source": [
    "x = np.array([(2 * mu - 1) / (2 * r) * np.pi for mu in range(1, r + 1)])\n",
    "print(f(x))\n",
    "\n",
    "import numpy as np\n",
    "import matplotlib.pyplot as plt\n",
    "\n",
    "# 计算 x\n",
    "x = np.array([(2 * mu - 1) / (2 * r) * np.pi for mu in range(1, r + 1)])\n",
    "\n",
    "factors = np.linspace(1, 1.12, 10)\n",
    "print(factors)\n",
    "\n",
    "def generate_scale_x(factor):\n",
    "    x_factor = np.array([np.pi / (2 * r) + (mu - 1) * np.pi / r * factor for mu in range(1, r + 1)])\n",
    "    if factor == 1.08:\n",
    "        print('factor is 1.08')\n",
    "        print('x is', x_factor)\n",
    "    return x_factor\n",
    "\n",
    "\n",
    "\n",
    "# 初始化 f_values，确保是二维数组\n",
    "f_values = []\n",
    "\n",
    "# 计算 f(x, Omegas)\n",
    "for factor in factors:\n",
    "    f_values.append(f(generate_scale_x(factor)))\n",
    "\n",
    "# 绘图\n",
    "plt.figure(figsize=(10, 6))\n",
    "plt.plot(factors, f_values)\n",
    "plt.title('f(x + factor) vs factor')\n",
    "plt.xlabel('factor')\n",
    "plt.ylabel('f(x + factor)')\n",
    "plt.grid()\n",
    "plt.show()\n"
   ]
  },
  {
   "cell_type": "code",
   "execution_count": 625,
   "metadata": {},
   "outputs": [
    {
     "name": "stdout",
     "output_type": "stream",
     "text": [
      "1.4804389206423472\n",
      "[[0.87565506 0.11345533]\n",
      " [0.11345533 1.93815334]]\n",
      "[[ 1.15072994 -0.06736126]\n",
      " [-0.06736126  0.51989823]]\n",
      "[ 1.69086095 -0.31916625]\n"
     ]
    }
   ],
   "source": [
    "factor = 1.08\n",
    "x_factor = np.array([np.pi / (2 * r) + (mu - 1) * np.pi / r * factor for mu in range(1, r + 1)])\n",
    "A = np.sin(np.outer(x_factor, Omegas))\n",
    "print(f(x_factor))\n",
    "print(A.T @ A)\n",
    "print(np.linalg.inv(A.T @ A))\n",
    "print(np.linalg.inv(A.T) @ p )"
   ]
  },
  {
   "cell_type": "code",
   "execution_count": 626,
   "metadata": {},
   "outputs": [
    {
     "data": {
      "text/plain": [
       "1.5707963267948966"
      ]
     },
     "execution_count": 626,
     "metadata": {},
     "output_type": "execute_result"
    }
   ],
   "source": [
    "np.pi/(r)"
   ]
  },
  {
   "cell_type": "code",
   "execution_count": 627,
   "metadata": {},
   "outputs": [
    {
     "data": {
      "text/plain": [
       "1.6964600329384885"
      ]
     },
     "execution_count": 627,
     "metadata": {},
     "output_type": "execute_result"
    }
   ],
   "source": [
    "np.pi / r * factor"
   ]
  },
  {
   "cell_type": "code",
   "execution_count": 628,
   "metadata": {},
   "outputs": [
    {
     "name": "stdout",
     "output_type": "stream",
     "text": [
      "1.5\n"
     ]
    },
    {
     "data": {
      "image/png": "[encoded data removed]",
      "text/plain": [
       "<Figure size 1000x600 with 1 Axes>"
      ]
     },
     "metadata": {},
     "output_type": "display_data"
    }
   ],
   "source": [
    "range_n = range(2, 10)\n",
    "shift_values = [ (1/n) * np.pi/(2*r) for n in range_n]\n",
    "# Compute f(x + y) for all values of y\n",
    "f_values = np.array([f(x + shift) for shift in shift_values])\n",
    "\n",
    "# Plot how f(x + y) changes as y changes\n",
    "plt.figure(figsize=(10, 6))\n",
    "plt.plot(range_n, f_values, label=\"f(x + y)\")\n",
    "\n",
    "# Adding the horizontal line for f at y = 0\n",
    "plt.axhline(y=f(x), color='r', linestyle='--', label=f'f(x) at y=0 = {f(x):.2f}')\n",
    "plt.axhline(y=f(optimal_x), color='k', linestyle='--', label=f'f(optimal_x) at y=0 = {f(x):.2f}')\n",
    "plt.xticks(range_n)\n",
    "\n",
    "print(f(x))\n",
    "plt.show()"
   ]
  },
  {
   "cell_type": "code",
   "execution_count": 629,
   "metadata": {},
   "outputs": [
    {
     "name": "stdout",
     "output_type": "stream",
     "text": [
      "1.5\n"
     ]
    },
    {
     "data": {
      "image/png": "[encoded data removed]",
      "text/plain": [
       "<Figure size 1000x600 with 1 Axes>"
      ]
     },
     "metadata": {},
     "output_type": "display_data"
    }
   ],
   "source": [
    "x = np.array([(2 * mu - 1) / (2 * r) * np.pi for mu in range(1, r + 1)])\n",
    "range_n = range(2, 10)\n",
    "shift_values = [ (1/n) * np.pi/(2*r) for n in range_n]\n",
    "# Compute f(x + y) for all values of y\n",
    "f_values = np.array([f(x + shift) for shift in shift_values])\n",
    "\n",
    "# Plot how f(x + y) changes as y changes\n",
    "plt.figure(figsize=(10, 6))\n",
    "plt.plot(range_n, f_values, label=\"f(x + y)\")\n",
    "\n",
    "# Adding the horizontal line for f at y = 0\n",
    "plt.axhline(y=f(x), color='r', linestyle='--', label=f'f(x) at y=0 = {f(x):.2f}')\n",
    "plt.axhline(y=f(optimal_x), color='k', linestyle='--', label=f'f(optimal_x) at y=0 = {f(x):.2f}')\n",
    "plt.xticks(range_n)\n",
    "\n",
    "print(f(x))\n",
    "plt.show()\n"
   ]
  },
  {
   "cell_type": "code",
   "execution_count": 630,
   "metadata": {},
   "outputs": [
    {
     "name": "stdout",
     "output_type": "stream",
     "text": [
      "1.5\n"
     ]
    },
    {
     "data": {
      "image/png": "[encoded data removed]",
      "text/plain": [
       "<Figure size 1000x600 with 1 Axes>"
      ]
     },
     "metadata": {},
     "output_type": "display_data"
    }
   ],
   "source": [
    "x = np.array([(2 * mu - 1) / (2 * r) * np.pi for mu in range(1, r + 1)])\n",
    "\n",
    "shift_values = np.linspace(0, np.pi/(2*r), 5)[1:-1]\n",
    "\n",
    "# Compute f(x + y) for all values of y\n",
    "f_values = np.array([f(x + shift) for shift in shift_values])\n",
    "\n",
    "# Plot how f(x + y) changes as y changes\n",
    "plt.figure(figsize=(10, 6))\n",
    "plt.plot(shift_values, f_values, label=\"f(x + y)\")\n",
    "\n",
    "# Adding the horizontal line for f at y = 0\n",
    "plt.axhline(y=f(x), color='r', linestyle='--', label=f'f(x) at y=0 = {f(x):.2f}')\n",
    "plt.axhline(y=f(optimal_x), color='k', linestyle='--', label=f'f(optimal_x) at y=0 = {f(x):.2f}')\n",
    "# plt.xticks(shift_values)\n",
    "\n",
    "print(f(x))\n",
    "plt.show()"
   ]
  },
  {
   "cell_type": "code",
   "execution_count": 631,
   "metadata": {},
   "outputs": [
    {
     "data": {
      "text/plain": [
       "array([1.42726352, 2.03224913, 7.63053514])"
      ]
     },
     "execution_count": 631,
     "metadata": {},
     "output_type": "execute_result"
    }
   ],
   "source": [
    "f_values"
   ]
  },
  {
   "cell_type": "code",
   "execution_count": 632,
   "metadata": {},
   "outputs": [
    {
     "name": "stdout",
     "output_type": "stream",
     "text": [
      "1.4033194536821623\n",
      "1.5\n",
      "1.511966128287415\n"
     ]
    },
    {
     "data": {
      "text/plain": [
       "array([[1.       , 0.3169873],\n",
       "       [0.3169873, 1.5      ]])"
      ]
     },
     "execution_count": 632,
     "metadata": {},
     "output_type": "execute_result"
    }
   ],
   "source": [
    "print(f(optimal_x))\n",
    "print(f(x))\n",
    "Omegas = np.arange(1, r + 1)  # Example frequencies\n",
    "n=3\n",
    "x = np.array([(2 * mu - 1) / (2 * r) * np.pi for mu in range(1, r + 1)])\n",
    "x_shift=x + np.pi/(2*r) * (1/n)\n",
    "print(f(x_shift))\n",
    "A = np.sin(np.outer(x_shift, Omegas))\n",
    "ATA=A.T @ A \n",
    "ATA"
   ]
  },
  {
   "cell_type": "code",
   "execution_count": 481,
   "metadata": {},
   "outputs": [
    {
     "data": {
      "text/plain": [
       "array([[ 1.17157288, -0.44834153],\n",
       "       [-0.44834153,  1.17157288]])"
      ]
     },
     "execution_count": 481,
     "metadata": {},
     "output_type": "execute_result"
    }
   ],
   "source": [
    "np.linalg.inv(ATA)"
   ]
  },
  {
   "cell_type": "code",
   "execution_count": 482,
   "metadata": {},
   "outputs": [
    {
     "data": {
      "text/plain": [
       "array([[ 0.92387953,  0.38268343],\n",
       "       [ 0.70710678, -0.70710678]])"
      ]
     },
     "execution_count": 482,
     "metadata": {},
     "output_type": "execute_result"
    }
   ],
   "source": [
    "A.T"
   ]
  },
  {
   "cell_type": "code",
   "execution_count": 483,
   "metadata": {},
   "outputs": [
    {
     "data": {
      "text/plain": [
       "array([[ 0.76536686,  0.41421356],\n",
       "       [ 0.76536686, -1.        ]])"
      ]
     },
     "execution_count": 483,
     "metadata": {},
     "output_type": "execute_result"
    }
   ],
   "source": [
    "np.linalg.inv(A.T)"
   ]
  },
  {
   "cell_type": "code",
   "execution_count": 484,
   "metadata": {},
   "outputs": [
    {
     "data": {
      "text/plain": [
       "array([ 1.59379399, -1.23463314])"
      ]
     },
     "execution_count": 484,
     "metadata": {},
     "output_type": "execute_result"
    }
   ],
   "source": [
    "np.linalg.inv(A.T)@p"
   ]
  },
  {
   "cell_type": "code",
   "execution_count": 154,
   "metadata": {},
   "outputs": [
    {
     "data": {
      "text/plain": [
       "(-0.630236207005132+1.3877787807814457e-16j)"
      ]
     },
     "execution_count": 154,
     "metadata": {},
     "output_type": "execute_result"
    }
   ],
   "source": [
    "def S(m,r):\n",
    "    e3=np.exp(1j * np.pi * 3*m / (4*r))\n",
    "    e2=np.exp(1j * np.pi * m / (4*r))\n",
    "    e1=np.exp(1j * np.pi * m / (r))\n",
    "    return (e3-e2) / (1-e1) \n",
    "\n",
    "S(5,r)\n"
   ]
  },
  {
   "cell_type": "code",
   "execution_count": 155,
   "metadata": {},
   "outputs": [
    {
     "data": {
      "text/plain": [
       "(-0.6302362070051323+0j)"
      ]
     },
     "execution_count": 155,
     "metadata": {},
     "output_type": "execute_result"
    }
   ],
   "source": [
    "-np.exp(1j * np.pi *5 / (4*r)) / (1+np.exp(1j * np.pi *5/ (2*r)))"
   ]
  },
  {
   "cell_type": "code",
   "execution_count": 156,
   "metadata": {},
   "outputs": [
    {
     "data": {
      "text/plain": [
       "(4.163336342344337e-17-6.938893903907228e-17j)"
      ]
     },
     "execution_count": 156,
     "metadata": {},
     "output_type": "execute_result"
    }
   ],
   "source": [
    "ROW=2\n",
    "COL=3\n",
    "0.5*(S(ROW-COL,r)-S(ROW+COL,r))\n",
    "0.5*(S(ROW-COL,r)-S(ROW+COL,r)) - ATA[ROW-1, COL-1]"
   ]
  },
  {
   "cell_type": "code",
   "execution_count": 157,
   "metadata": {},
   "outputs": [
    {
     "name": "stdout",
     "output_type": "stream",
     "text": [
      "m = 0: 6.0\n",
      "m = 1: -0.5043144802900763\n",
      "m = 2: -3.3306690738754696e-16\n",
      "m = 3: -0.5411961001461956\n",
      "m = 4: -1.7763568394002505e-15\n",
      "m = 5: -0.6302362070051312\n",
      "m = 6: -3.3306690738754696e-16\n",
      "m = 7: -0.8213398158522912\n",
      "m = 8: -1.1102230246251565e-16\n",
      "m = 9: -1.3065629648763748\n",
      "m = 10: -6.716849298982197e-15\n",
      "m = 11: -3.830648787770191\n",
      "m = 12: -4.776122516674677e-15\n",
      "m = 13: 3.830648787770203\n",
      "m = 14: -6.217248937900877e-15\n",
      "m = 15: 1.3065629648763841\n",
      "m = 16: -2.220446049250313e-16\n",
      "m = 17: 0.8213398158522913\n",
      "m = 18: -5.218048215738236e-15\n",
      "m = 19: 0.6302362070051358\n",
      "m = 20: -6.5503158452884236e-15\n",
      "m = 21: 0.5411961001462127\n",
      "m = 22: -4.3298697960381105e-15\n",
      "m = 23: 0.5043144802900746\n",
      "m = 24: -6.0\n",
      "m = 25: 0.504314480290069\n",
      "m = 26: 1.3655743202889425e-14\n",
      "m = 27: 0.541196100146186\n",
      "m = 28: 1.2434497875801753e-14\n",
      "m = 29: 0.6302362070051323\n",
      "m = 30: 6.328271240363392e-15\n",
      "m = 31: 0.8213398158522847\n",
      "m = 32: 1.1102230246251565e-16\n"
     ]
    }
   ],
   "source": [
    "# 计算对于不同正整数 m 的最后输出值\n",
    "results = {m: np.sum(np.cos(x_shift * m)) for m in range(0, 33)}  # 计算 m = 1, 2, ..., 9\n",
    "\n",
    "# 打印每个结果\n",
    "for m, result in results.items():\n",
    "    print(f\"m = {m}: {result}\")"
   ]
  },
  {
   "cell_type": "code",
   "execution_count": 158,
   "metadata": {},
   "outputs": [
    {
     "name": "stdout",
     "output_type": "stream",
     "text": [
      "(0.5555702330196023-0.8314696123025452j)\n",
      "(0.8314696123025452+0.5555702330196023j)\n"
     ]
    }
   ],
   "source": [
    "# 不要随便对复数进行指数 ** 运算！！！！！！！！\n",
    "# 虽然理论上它们代表同一个数，但在数值计算中，可能会出现不一致的情况。\n",
    "\n",
    "import numpy as np\n",
    "\n",
    "r = 4\n",
    "result1 = np.exp(-1j * np.pi * 5 / (4 * r))\n",
    "result2 = np.exp(-1j * np.pi * 5 / r) ** (1/4)\n",
    "\n",
    "print(result1)\n",
    "print(result2)\n"
   ]
  }
 ],
 "metadata": {
  "kernelspec": {
   "display_name": "RCD",
   "language": "python",
   "name": "python3"
  },
  "language_info": {
   "codemirror_mode": {
    "name": "ipython",
    "version": 3
   },
   "file_extension": ".py",
   "mimetype": "text/x-python",
   "name": "python",
   "nbconvert_exporter": "python",
   "pygments_lexer": "ipython3",
   "version": "3.10.14"
  }
 },
 "nbformat": 4,
 "nbformat_minor": 2
}
