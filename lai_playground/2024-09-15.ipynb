{
 "cells": [
  {
   "cell_type": "code",
   "execution_count": 1,
   "metadata": {},
   "outputs": [
    {
     "data": {
      "text/latex": [
       "$\\displaystyle \\left[\\begin{matrix}\\frac{\\sqrt{2}}{2} & 1\\\\\\frac{\\sqrt{2}}{2} & -1\\end{matrix}\\right]$"
      ],
      "text/plain": [
       "Matrix([\n",
       "[sqrt(2)/2,  1],\n",
       "[sqrt(2)/2, -1]])"
      ]
     },
     "execution_count": 1,
     "metadata": {},
     "output_type": "execute_result"
    }
   ],
   "source": [
    "import sympy as sp\n",
    "import numpy as np\n",
    "\n",
    "# 定义符号\n",
    "r = 2\n",
    "pi = sp.pi\n",
    "\n",
    "# 使用 numpy 生成数值向量 p\n",
    "p = np.arange(1, r+1)\n",
    "\n",
    "# 计算 x_i 的表达式\n",
    "x_vals = [pi/(2*r) + (i-1)*pi/r for i in range(1, r+1)]\n",
    "\n",
    "# 构建符号矩阵 A_0\n",
    "A_0 = sp.Matrix([[sp.sin(k * x_i) for k in range(1, r+1)] for x_i in x_vals])\n",
    "A_0\n"
   ]
  },
  {
   "cell_type": "code",
   "execution_count": 2,
   "metadata": {},
   "outputs": [
    {
     "data": {
      "text/latex": [
       "$\\displaystyle \\left[\\begin{matrix}\\frac{\\sqrt{2}}{2} & 0\\\\- \\frac{\\sqrt{2}}{2} & 0\\end{matrix}\\right]$"
      ],
      "text/plain": [
       "Matrix([\n",
       "[ sqrt(2)/2, 0],\n",
       "[-sqrt(2)/2, 0]])"
      ]
     },
     "execution_count": 2,
     "metadata": {},
     "output_type": "execute_result"
    }
   ],
   "source": [
    "# 构建符号矩阵 A_1\n",
    "A_1 = sp.Matrix([[k * sp.cos(k * x_i) for k in range(1, r+1)] for x_i in x_vals])\n",
    "A_1"
   ]
  },
  {
   "cell_type": "code",
   "execution_count": 3,
   "metadata": {},
   "outputs": [
    {
     "data": {
      "text/latex": [
       "$\\displaystyle \\left[\\begin{matrix}\\frac{\\sqrt{2}}{2} & \\frac{\\sqrt{2}}{2}\\\\\\frac{1}{2} & - \\frac{1}{2}\\end{matrix}\\right]$"
      ],
      "text/plain": [
       "Matrix([\n",
       "[sqrt(2)/2, sqrt(2)/2],\n",
       "[      1/2,      -1/2]])"
      ]
     },
     "execution_count": 3,
     "metadata": {},
     "output_type": "execute_result"
    }
   ],
   "source": [
    "# 矩阵求逆\n",
    "A_0_inv = A_0.inv()\n",
    "A_0_inv\n",
    "\n"
   ]
  },
  {
   "cell_type": "code",
   "execution_count": 4,
   "metadata": {},
   "outputs": [
    {
     "data": {
      "text/latex": [
       "$\\displaystyle \\left[\\begin{matrix}\\frac{\\left(-1 + \\frac{\\sqrt{2}}{2}\\right) \\left(\\frac{\\sqrt{2}}{2} + 1\\right)}{2} + \\frac{\\left(\\frac{\\sqrt{2}}{2} + 1\\right)^{2}}{2}\\\\- \\frac{\\left(-1 + \\frac{\\sqrt{2}}{2}\\right)^{2}}{2} - \\frac{\\left(-1 + \\frac{\\sqrt{2}}{2}\\right) \\left(\\frac{\\sqrt{2}}{2} + 1\\right)}{2}\\end{matrix}\\right]$"
      ],
      "text/plain": [
       "Matrix([\n",
       "[  (-1 + sqrt(2)/2)*(sqrt(2)/2 + 1)/2 + (sqrt(2)/2 + 1)**2/2],\n",
       "[-(-1 + sqrt(2)/2)**2/2 - (-1 + sqrt(2)/2)*(sqrt(2)/2 + 1)/2]])"
      ]
     },
     "execution_count": 4,
     "metadata": {},
     "output_type": "execute_result"
    }
   ],
   "source": [
    "\n",
    "# 将 numpy 的数值向量 p 转换为 sympy 的数值矩阵\n",
    "p_sym = sp.Matrix(p)\n",
    "\n",
    "# 计算 b 向量\n",
    "b = A_0_inv.T * p_sym\n",
    "\n",
    "# 计算 grad\n",
    "D = A_1 * A_0_inv * (b * b.T)\n",
    "\n",
    "D_diag = D.diagonal().T\n",
    "# 输出结果\n",
    "D_diag\n"
   ]
  },
  {
   "cell_type": "code",
   "execution_count": 5,
   "metadata": {},
   "outputs": [
    {
     "data": {
      "text/latex": [
       "$\\displaystyle \\left[\\begin{matrix}1 & 0\\\\0 & 2\\end{matrix}\\right]$"
      ],
      "text/plain": [
       "Matrix([\n",
       "[1, 0],\n",
       "[0, 2]])"
      ]
     },
     "execution_count": 5,
     "metadata": {},
     "output_type": "execute_result"
    }
   ],
   "source": [
    "A_0.T * A_0\n",
    "\n"
   ]
  },
  {
   "cell_type": "code",
   "execution_count": 6,
   "metadata": {},
   "outputs": [
    {
     "data": {
      "text/latex": [
       "$\\displaystyle \\left[\\begin{matrix}\\frac{3}{2} & - \\frac{1}{2}\\\\- \\frac{1}{2} & \\frac{3}{2}\\end{matrix}\\right]$"
      ],
      "text/plain": [
       "Matrix([\n",
       "[ 3/2, -1/2],\n",
       "[-1/2,  3/2]])"
      ]
     },
     "execution_count": 6,
     "metadata": {},
     "output_type": "execute_result"
    }
   ],
   "source": [
    "A_0 * A_0.T"
   ]
  },
  {
   "cell_type": "code",
   "execution_count": 7,
   "metadata": {},
   "outputs": [
    {
     "data": {
      "text/plain": [
       "{(1, 2): -4.440892098500626e-16,\n",
       " (1, 3): 3.3306690738754696e-16,\n",
       " (2, 1): -4.440892098500626e-16,\n",
       " (2, 3): -5.551115123125783e-16,\n",
       " (3, 1): 3.3306690738754696e-16,\n",
       " (3, 2): -5.551115123125783e-16}"
      ]
     },
     "execution_count": 7,
     "metadata": {},
     "output_type": "execute_result"
    }
   ],
   "source": [
    "import numpy as np\n",
    "\n",
    "# 定义参数\n",
    "r = 3\n",
    "pi = np.pi\n",
    "\n",
    "# 计算 x_mu 的值\n",
    "x_vals = [pi/(2*r) + (mu-1)*pi/r for mu in range(1, r+1)]\n",
    "\n",
    "# 定义 t_i 和 t_j 的函数\n",
    "def t(i, x_vals):\n",
    "    return np.array([np.sin(i * x_mu) for x_mu in x_vals])\n",
    "\n",
    "# 计算 t_i 和 t_j 的内积\n",
    "def inner_product(i, j, x_vals):\n",
    "    t_i = t(i, x_vals)\n",
    "    t_j = t(j, x_vals)\n",
    "    return np.dot(t_i, t_j)\n",
    "\n",
    "# 验证 i ≠ j 的情况\n",
    "results = {}\n",
    "for i in range(1, r+1):\n",
    "    for j in range(1, r+1):\n",
    "        if i != j:\n",
    "            results[(i, j)] = inner_product(i, j, x_vals)\n",
    "results"
   ]
  },
  {
   "cell_type": "code",
   "execution_count": 8,
   "metadata": {},
   "outputs": [
    {
     "name": "stdout",
     "output_type": "stream",
     "text": [
      "i + j = 2, i - j = 0\n",
      "i + j = 3, i - j = -1\n",
      "i + j = 4, i - j = -2\n",
      "i + j = 3, i - j = 1\n",
      "i + j = 4, i - j = 0\n",
      "i + j = 5, i - j = -1\n",
      "i + j = 4, i - j = 2\n",
      "i + j = 5, i - j = 1\n",
      "i + j = 6, i - j = 0\n",
      "Cosine sum results for i + j:\n",
      "i=1, j=1, i+j=2: -5.551115123125783e-16\n",
      "i=1, j=2, i+j=3: 1.0718754395722282e-15\n",
      "i=1, j=3, i+j=4: -1.1102230246251565e-15\n",
      "i=2, j=1, i+j=3: 1.0718754395722282e-15\n",
      "i=2, j=2, i+j=4: -1.1102230246251565e-15\n",
      "i=2, j=3, i+j=5: 9.992007221626409e-16\n",
      "i=3, j=1, i+j=4: -1.1102230246251565e-15\n",
      "i=3, j=2, i+j=5: 9.992007221626409e-16\n",
      "i=3, j=3, i+j=6: -3.0\n",
      "\n",
      "Cosine sum results for i - j:\n",
      "i=1, j=1, i-j=0: 3.0\n",
      "i=1, j=2, i-j=-1: 3.3306690738754696e-16\n",
      "i=1, j=3, i-j=-2: -5.551115123125783e-16\n",
      "i=2, j=1, i-j=1: 3.3306690738754696e-16\n",
      "i=2, j=2, i-j=0: 3.0\n",
      "i=2, j=3, i-j=-1: 3.3306690738754696e-16\n",
      "i=3, j=1, i-j=2: -5.551115123125783e-16\n",
      "i=3, j=2, i-j=1: 3.3306690738754696e-16\n",
      "i=3, j=3, i-j=0: 3.0\n"
     ]
    }
   ],
   "source": [
    "import numpy as np\n",
    "\n",
    "# 定义函数来计算 cos_sum 的结果\n",
    "def cos_sum_extended(i, j, x_vals):\n",
    "    print(f\"i + j = {i + j}, i - j = {i - j}\")\n",
    "    cos_sum_add = np.sum([np.cos((i + j) * x_mu) for x_mu in x_vals])\n",
    "    cos_sum_subtract = np.sum([np.cos((i - j) * x_mu) for x_mu in x_vals])\n",
    "    return cos_sum_add, cos_sum_subtract\n",
    "\n",
    "# 存储计算 i + j 和 i - j 的结果\n",
    "cos_sum_results_add = {}\n",
    "cos_sum_results_subtract = {}\n",
    "\n",
    "# 假设 r 和 x_vals 已定义\n",
    "for i in range(1, r + 1):\n",
    "    for j in range(1, r + 1):\n",
    "        cos_sum_add, cos_sum_subtract = cos_sum_extended(i, j, x_vals)\n",
    "        cos_sum_results_add[(i, j)] = cos_sum_add\n",
    "        cos_sum_results_subtract[(i, j)] = cos_sum_subtract\n",
    "\n",
    "# 打印结果\n",
    "print(\"Cosine sum results for i + j:\")\n",
    "for key, value in cos_sum_results_add.items():\n",
    "    print(f\"i={key[0]}, j={key[1]}, i+j={key[0]+key[1]}: {value}\")\n",
    "\n",
    "print(\"\\nCosine sum results for i - j:\")\n",
    "for key, value in cos_sum_results_subtract.items():\n",
    "    print(f\"i={key[0]}, j={key[1]}, i-j={key[0]-key[1]}: {value}\")\n"
   ]
  },
  {
   "cell_type": "code",
   "execution_count": 9,
   "metadata": {},
   "outputs": [
    {
     "name": "stdout",
     "output_type": "stream",
     "text": [
      "k = 0, cos_sum = 3.0\n",
      "k = 1, cos_sum = 3.3306690738754696e-16\n",
      "k = 2, cos_sum = -5.551115123125783e-16\n",
      "k = 3, cos_sum = 1.0718754395722282e-15\n",
      "k = 4, cos_sum = -1.1102230246251565e-15\n",
      "k = 5, cos_sum = 9.992007221626409e-16\n",
      "k = 6, cos_sum = -3.0\n",
      "k = 7, cos_sum = -2.4424906541753444e-15\n",
      "k = 8, cos_sum = 2.3314683517128287e-15\n",
      "k = 9, cos_sum = -2.3274478990165594e-15\n",
      "k = 10, cos_sum = 1.2212453270876722e-15\n",
      "k = 11, cos_sum = -5.329070518200751e-15\n",
      "k = 12, cos_sum = 3.0\n",
      "k = 13, cos_sum = 3.3306690738754696e-15\n",
      "k = 14, cos_sum = -5.9396931817445875e-15\n",
      "k = 15, cos_sum = 5.359377197861141e-15\n",
      "k = 16, cos_sum = -4.773959005888173e-15\n",
      "k = 17, cos_sum = 2.886579864025407e-15\n",
      "k = 18, cos_sum = -3.0\n",
      "k = 19, cos_sum = -5.88418203051333e-15\n",
      "k = 20, cos_sum = 2.4980018054066022e-15\n",
      "k = 21, cos_sum = -1.1944020175506223e-14\n",
      "k = 22, cos_sum = 8.215650382226158e-15\n",
      "k = 23, cos_sum = -9.103828801926284e-15\n",
      "k = 24, cos_sum = 3.0\n",
      "k = 25, cos_sum = 8.326672684688674e-15\n",
      "k = 26, cos_sum = -1.2156942119645464e-14\n",
      "k = 27, cos_sum = 1.408777105465068e-14\n",
      "k = 28, cos_sum = -1.176836406102666e-14\n",
      "k = 29, cos_sum = 7.993605777301127e-15\n",
      "k = 30, cos_sum = -3.0\n",
      "k = 31, cos_sum = -1.0880185641326534e-14\n",
      "k = 32, cos_sum = 9.492406860545088e-15\n"
     ]
    }
   ],
   "source": [
    "# 针对不同整数k计算结果并打印\n",
    "# 定义 k 的最大值\n",
    "N = 32\n",
    "\n",
    "# 计算并打印不同 k 的 cos_sum\n",
    "for k in range(0, N + 1):\n",
    "    cos_sum = np.sum([np.cos(k * x_mu) for x_mu in x_vals])\n",
    "    print(f\"k = {k}, cos_sum = {cos_sum}\")\n",
    "\n"
   ]
  },
  {
   "cell_type": "code",
   "execution_count": 10,
   "metadata": {},
   "outputs": [
    {
     "name": "stdout",
     "output_type": "stream",
     "text": [
      "lhs: 3.2842677961360227, rhs: 3.284267796136023\n",
      "lhs: -0.4049786011054436, rhs: -0.4049786011054438\n",
      "lhs: 0.18080783652146037, rhs: 0.18080783652146118\n",
      "lhs: -0.12994576623707277, rhs: -0.12994576623707252\n"
     ]
    },
    {
     "data": {
      "text/plain": [
       "{0.39269908169872414: True,\n",
       " 1.1780972450961724: True,\n",
       " 1.9634954084936207: True,\n",
       " 2.748893571891069: True}"
      ]
     },
     "execution_count": 10,
     "metadata": {},
     "output_type": "execute_result"
    }
   ],
   "source": [
    "# 定义参数\n",
    "r = 4\n",
    "pi = np.pi\n",
    "\n",
    "# 定义 x_mu\n",
    "\n",
    "x_vals = [pi / (2 * r) + (mu - 1) * pi / r for mu in range(1, r + 1)]\n",
    "# x_vals = np.random.rand(r) * 2 * np.pi\n",
    "\n",
    "# 定义函数，验证等式是否成立\n",
    "def verify_equality(x, r):\n",
    "    lhs = np.sin(r * x) + (2 / r) * np.sum([np.sin(k * x) * k for k in range(1, r)])\n",
    "    rhs = np.sin(r * x) / (2 * r * (np.sin(x / 2) ** 2))\n",
    "    print(f\"lhs: {lhs}, rhs: {rhs}\")\n",
    "    return np.isclose(lhs, rhs)\n",
    "\n",
    "# 验证对于所有 x_mu\n",
    "results = {x_mu: verify_equality(x_mu, r) for x_mu in x_vals}\n",
    "results\n"
   ]
  }
 ],
 "metadata": {
  "kernelspec": {
   "display_name": "RCD",
   "language": "python",
   "name": "python3"
  },
  "language_info": {
   "codemirror_mode": {
    "name": "ipython",
    "version": 3
   },
   "file_extension": ".py",
   "mimetype": "text/x-python",
   "name": "python",
   "nbconvert_exporter": "python",
   "pygments_lexer": "ipython3",
   "version": "3.10.14"
  }
 },
 "nbformat": 4,
 "nbformat_minor": 2
}
