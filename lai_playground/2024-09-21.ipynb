{
 "cells": [
  {
   "cell_type": "code",
   "execution_count": 2,
   "metadata": {},
   "outputs": [
    {
     "name": "stdout",
     "output_type": "stream",
     "text": [
      "b = [ 0.00000000e+00 -4.08280984e+15]\n",
      "F(x) = 8.334668087854911e+30\n"
     ]
    }
   ],
   "source": [
    "import numpy as np\n",
    "from scipy.linalg import inv\n",
    "from scipy.optimize import approx_fprime\n",
    "\n",
    "d = 1\n",
    "# Define the function to compute f(x)\n",
    "r = 2\n",
    "Omegas = np.random.rand(r) * 10  # Example frequencies\n",
    "Omegas = np.arange(1, r + 1)  # Example frequencies\n",
    "p = Omegas ** d * (-1 if d % 4 == 3 else 1)\n",
    "\n",
    "x = np.random.rand(r)  # Example initial guess\n",
    "x = np.array([0.5, 0.499])  # Example initial guess\n",
    "x = np.array([0.5, 0.499 + np.pi *2 ])  # Example initial guess\n",
    "x = np.array([0.5, np.pi *2 - 0.499 ])  # Example initial guess\n",
    "x = np.array([np.pi, 2*np.pi])  # Example initial guess\n",
    "\n",
    "\n",
    "A = np.sin(np.outer(x, Omegas))\n",
    "b = np.linalg.inv(A.T) @ p\n",
    "print(f\"b = {b}\")\n",
    "F = 0.5* np.linalg.norm(b, ord=2)**2\n",
    "print(f\"F(x) = {F}\")"
   ]
  },
  {
   "cell_type": "code",
   "execution_count": 14,
   "metadata": {},
   "outputs": [
    {
     "name": "stdout",
     "output_type": "stream",
     "text": [
      "m = 0: 4.0\n",
      "m = 1: -0.5097955791041588\n",
      "m = 2: -6.661338147750939e-16\n",
      "m = 3: -0.6013448869350438\n",
      "m = 4: -2.220446049250313e-16\n",
      "m = 5: -0.8999762231364161\n",
      "m = 6: -3.1086244689504383e-15\n",
      "m = 7: -2.562915447741502\n",
      "m = 8: -5.757077917265737e-15\n"
     ]
    }
   ],
   "source": [
    "import numpy as np\n",
    "r=4\n",
    "Omegas = np.arange(1, r + 1)  # Example frequencies\n",
    "n=2\n",
    "x = np.array([(2 * mu - 1) / (2 * r) * np.pi for mu in range(1, r + 1)])\n",
    "x_shift=x + np.pi/(2*r) * (1/n)\n",
    "# print(f(x_shift))\n",
    "A = np.sin(np.outer(x_shift, Omegas))\n",
    "# ATA=A.T @ A \n",
    "# ATA\n",
    "# 计算对于不同正整数 m 的最后输出值\n",
    "results = {m: np.sum(np.cos(x_shift * m)) for m in range(0, 2*r+1)}  # 计算 m = 1, 2, ..., 9\n",
    "\n",
    "# 打印每个结果\n",
    "for m, result in results.items():\n",
    "    print(f\"m = {m}: {result}\")"
   ]
  }
 ],
 "metadata": {
  "kernelspec": {
   "display_name": "RCD",
   "language": "python",
   "name": "python3"
  },
  "language_info": {
   "codemirror_mode": {
    "name": "ipython",
    "version": 3
   },
   "file_extension": ".py",
   "mimetype": "text/x-python",
   "name": "python",
   "nbconvert_exporter": "python",
   "pygments_lexer": "ipython3",
   "version": "3.10.14"
  }
 },
 "nbformat": 4,
 "nbformat_minor": 2
}
