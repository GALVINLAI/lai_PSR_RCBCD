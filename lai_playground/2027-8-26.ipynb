{
 "cells": [
  {
   "cell_type": "markdown",
   "metadata": {},
   "source": [
    "验证以下是我们的特殊情况\n",
    "$$\n",
    "\\begin{aligned}\n",
    "E^{\\prime \\prime}(0)= & -E_{\\text {even }}(0) \\frac{2 R^2+1}{6}+E_{\\text {even }}(\\pi) \\frac{(-1)^{R-1}}{2} \\\\\n",
    "& +\\sum_{\\mu=1}^{R-1} E_{\\text {even }}\\left(\\frac{\\mu \\pi}{R}\\right) \\frac{(-1)^{\\mu-1}}{\\sin ^2\\left(\\frac{\\mu \\pi}{2 R}\\right)}\n",
    "\\end{aligned}\n",
    "$$\n"
   ]
  },
  {
   "cell_type": "code",
   "execution_count": 1,
   "metadata": {},
   "outputs": [
    {
     "data": {
      "text/plain": [
       "(array([-8.5       , 10.47213595, -2.89442719,  1.52786405, -1.10557281,\n",
       "         0.5       ]),\n",
       " array([-8.5       , 10.47213595, -2.89442719,  1.52786405, -1.10557281,\n",
       "         0.5       ]),\n",
       " True)"
      ]
     },
     "execution_count": 1,
     "metadata": {},
     "output_type": "execute_result"
    }
   ],
   "source": [
    "import numpy as np\n",
    "# even 函数前的系数\n",
    "\n",
    "d=2\n",
    "# Define random r\n",
    "r = np.random.randint(1, 10)\n",
    "r = 5\n",
    "\n",
    "# Define x_mu\n",
    "# x_mu = np.array([0] + [(mu * np.pi) / r  for mu in range(1, r)] + [np.pi])\n",
    "x_mu = np.array([(mu * np.pi) / r  for mu in range(0, r+1)])\n",
    "\n",
    "Omegas = np.arange(1, r+1)\n",
    "# q0 = np.array([0] + [-mu**2 for mu in range(1, r + 1)])\n",
    "q0 = Omegas ** d * (-1 if d % 4 == 2 else 1)\n",
    "q0 = np.insert(q0, 0, 1 if d == 0 else 0)\n",
    "\n",
    "# Create matrix A\n",
    "A = np.array([[1] + [np.cos(n * x) for n in range(1, r + 1)] for x in x_mu])\n",
    "# A = np.cos(np.outer(x_mu, np.insert(Omegas, 0, 0)))\n",
    "\n",
    "# Calculate the inverse of A and the dot product with p0\n",
    "b = np.dot(np.linalg.inv(A).T, q0)\n",
    "\n",
    "# Calculate the expression for each x_mu\n",
    "expression_values = np.array(\n",
    "    [-(2*r**2+1)/6]+\n",
    "    [(-1)**(mu-1)/ (np.sin(0.5 * (mu * np.pi) / r )**2) for mu in range(1, r)]+\n",
    "    [(-1)**(r-1)/2])\n",
    "\n",
    "# Check if the values are equal\n",
    "are_equal = np.allclose(b , expression_values)\n",
    "b, expression_values, are_equal"
   ]
  },
  {
   "cell_type": "code",
   "execution_count": 13,
   "metadata": {},
   "outputs": [
    {
     "data": {
      "text/plain": [
       "25.0"
      ]
     },
     "execution_count": 13,
     "metadata": {},
     "output_type": "execute_result"
    }
   ],
   "source": [
    "np.linalg.norm(expression_values,1)"
   ]
  },
  {
   "cell_type": "code",
   "execution_count": 3,
   "metadata": {},
   "outputs": [
    {
     "data": {
      "text/plain": [
       "97.05"
      ]
     },
     "execution_count": 3,
     "metadata": {},
     "output_type": "execute_result"
    }
   ],
   "source": [
    "0.5 * np.trace(np.linalg.inv(A.T @ A) @ np.outer(q0, q0))"
   ]
  },
  {
   "cell_type": "code",
   "execution_count": 4,
   "metadata": {},
   "outputs": [
    {
     "data": {
      "text/plain": [
       "97.05"
      ]
     },
     "execution_count": 4,
     "metadata": {},
     "output_type": "execute_result"
    }
   ],
   "source": [
    "0.5 * np.linalg.norm(b,2)**2"
   ]
  },
  {
   "cell_type": "code",
   "execution_count": 5,
   "metadata": {},
   "outputs": [
    {
     "data": {
      "text/plain": [
       "array([[ 6.00000000e+00,  0.00000000e+00,  1.00000000e+00,\n",
       "         2.22044605e-16,  1.00000000e+00,  0.00000000e+00],\n",
       "       [ 0.00000000e+00,  3.50000000e+00,  2.22044605e-16,\n",
       "         1.00000000e+00,  0.00000000e+00,  1.00000000e+00],\n",
       "       [ 1.00000000e+00,  2.22044605e-16,  3.50000000e+00,\n",
       "         2.22044605e-16,  1.00000000e+00, -1.11022302e-16],\n",
       "       [ 2.22044605e-16,  1.00000000e+00,  2.22044605e-16,\n",
       "         3.50000000e+00,  2.22044605e-16,  1.00000000e+00],\n",
       "       [ 1.00000000e+00,  0.00000000e+00,  1.00000000e+00,\n",
       "         2.22044605e-16,  3.50000000e+00, -4.44089210e-16],\n",
       "       [ 0.00000000e+00,  1.00000000e+00, -1.11022302e-16,\n",
       "         1.00000000e+00, -4.44089210e-16,  6.00000000e+00]])"
      ]
     },
     "execution_count": 5,
     "metadata": {},
     "output_type": "execute_result"
    }
   ],
   "source": [
    "A.T @ A"
   ]
  },
  {
   "cell_type": "code",
   "execution_count": 6,
   "metadata": {},
   "outputs": [
    {
     "data": {
      "text/plain": [
       "array([[ 1.80000000e-01,  5.50670620e-18, -4.00000000e-02,\n",
       "        -6.92779167e-18, -4.00000000e-02, -3.46389584e-18],\n",
       "       [ 5.50670620e-18,  3.20000000e-01, -1.91846539e-17,\n",
       "        -8.00000000e-02,  3.90798505e-18, -4.00000000e-02],\n",
       "       [-4.00000000e-02, -1.91846539e-17,  3.20000000e-01,\n",
       "        -8.52651283e-18, -8.00000000e-02,  4.61852778e-18],\n",
       "       [-6.92779167e-18, -8.00000000e-02, -8.52651283e-18,\n",
       "         3.20000000e-01, -2.09610107e-17, -4.00000000e-02],\n",
       "       [-4.00000000e-02,  3.90798505e-18, -8.00000000e-02,\n",
       "        -2.09610107e-17,  3.20000000e-01,  2.50466314e-17],\n",
       "       [-3.46389584e-18, -4.00000000e-02,  4.61852778e-18,\n",
       "        -4.00000000e-02,  2.50466314e-17,  1.80000000e-01]])"
      ]
     },
     "execution_count": 6,
     "metadata": {},
     "output_type": "execute_result"
    }
   ],
   "source": [
    "np.linalg.inv(A.T @ A)"
   ]
  },
  {
   "cell_type": "code",
   "execution_count": 7,
   "metadata": {},
   "outputs": [
    {
     "data": {
      "text/plain": [
       "array([[ 0.1      ,  0.2      ,  0.2      ,  0.2      ,  0.2      ,\n",
       "         0.1      ],\n",
       "       [ 0.2      ,  0.3236068,  0.1236068, -0.1236068, -0.3236068,\n",
       "        -0.2      ],\n",
       "       [ 0.2      ,  0.1236068, -0.3236068, -0.3236068,  0.1236068,\n",
       "         0.2      ],\n",
       "       [ 0.2      , -0.1236068, -0.3236068,  0.3236068,  0.1236068,\n",
       "        -0.2      ],\n",
       "       [ 0.2      , -0.3236068,  0.1236068,  0.1236068, -0.3236068,\n",
       "         0.2      ],\n",
       "       [ 0.1      , -0.2      ,  0.2      , -0.2      ,  0.2      ,\n",
       "        -0.1      ]])"
      ]
     },
     "execution_count": 7,
     "metadata": {},
     "output_type": "execute_result"
    }
   ],
   "source": [
    "np.linalg.inv(A.T)"
   ]
  },
  {
   "cell_type": "code",
   "execution_count": null,
   "metadata": {},
   "outputs": [],
   "source": []
  },
  {
   "cell_type": "code",
   "execution_count": 8,
   "metadata": {},
   "outputs": [
    {
     "data": {
      "text/latex": [
       "$\\displaystyle \\left[\\begin{matrix}\\frac{r + 1}{r \\left(r + 2\\right)} & 0 & - \\frac{1}{r \\left(r + 2\\right)}\\\\0 & \\frac{2}{r + 1} & 0\\\\- \\frac{1}{r \\left(r + 2\\right)} & 0 & \\frac{r + 1}{r \\left(r + 2\\right)}\\end{matrix}\\right]$"
      ],
      "text/plain": [
       "Matrix([\n",
       "[(r + 1)/(r*(r + 2)),         0,      -1/(r*(r + 2))],\n",
       "[                  0, 2/(r + 1),                   0],\n",
       "[     -1/(r*(r + 2)),         0, (r + 1)/(r*(r + 2))]])"
      ]
     },
     "execution_count": 8,
     "metadata": {},
     "output_type": "execute_result"
    }
   ],
   "source": [
    "import sympy as sp\n",
    "\n",
    "# 定义符号变量\n",
    "r = sp.symbols('r')\n",
    "\n",
    "# r = 2\n",
    "# 定义矩阵\n",
    "A = sp.Matrix([[r + 1, 0, 1],\n",
    "                [0, (r + 1) / 2, 0],\n",
    "                [1, 0, r + 1]])\n",
    "\n",
    "# 计算逆矩阵\n",
    "A_inv = A.inv()\n",
    "\n",
    "# 显示逆矩阵\n",
    "A_inv.simplify()\n",
    "A_inv\n"
   ]
  },
  {
   "cell_type": "code",
   "execution_count": 9,
   "metadata": {},
   "outputs": [
    {
     "data": {
      "text/latex": [
       "$\\displaystyle \\left[\\begin{matrix}r + 1 & 0 & 1 & 0\\\\0 & \\frac{r}{2} + \\frac{1}{2} & 0 & 1\\\\1 & 0 & \\frac{r}{2} + \\frac{1}{2} & 0\\\\0 & 1 & 0 & r + 1\\end{matrix}\\right]$"
      ],
      "text/plain": [
       "Matrix([\n",
       "[r + 1,         0,         1,     0],\n",
       "[    0, r/2 + 1/2,         0,     1],\n",
       "[    1,         0, r/2 + 1/2,     0],\n",
       "[    0,         1,         0, r + 1]])"
      ]
     },
     "execution_count": 9,
     "metadata": {},
     "output_type": "execute_result"
    }
   ],
   "source": [
    "import sympy as sp\n",
    "\n",
    "# 定义符号变量\n",
    "r = sp.symbols('r')\n",
    "\n",
    "# r=2\n",
    "# 定义矩阵\n",
    "A = sp.Matrix([[r + 1, 0, 1, 0],\n",
    "                [0, (r + 1) / 2, 0, 1],\n",
    "                [1, 0, (r + 1) / 2, 0],\n",
    "                [0, 1, 0, r + 1]])\n",
    "A\n"
   ]
  },
  {
   "cell_type": "code",
   "execution_count": 10,
   "metadata": {},
   "outputs": [
    {
     "data": {
      "text/latex": [
       "$\\displaystyle \\left[\\begin{matrix}\\frac{r + 1}{r^{2} + 2 r - 1} & 0 & - \\frac{2}{r^{2} + 2 r - 1} & 0\\\\0 & \\frac{2 \\left(r + 1\\right)}{r^{2} + 2 r - 1} & 0 & - \\frac{2}{r^{2} + 2 r - 1}\\\\- \\frac{2}{r^{2} + 2 r - 1} & 0 & \\frac{2 \\left(r + 1\\right)}{r^{2} + 2 r - 1} & 0\\\\0 & - \\frac{2}{r^{2} + 2 r - 1} & 0 & \\frac{r + 1}{r^{2} + 2 r - 1}\\end{matrix}\\right]$"
      ],
      "text/plain": [
       "Matrix([\n",
       "[(r + 1)/(r**2 + 2*r - 1),                          0,        -2/(r**2 + 2*r - 1),                        0],\n",
       "[                       0, 2*(r + 1)/(r**2 + 2*r - 1),                          0,      -2/(r**2 + 2*r - 1)],\n",
       "[     -2/(r**2 + 2*r - 1),                          0, 2*(r + 1)/(r**2 + 2*r - 1),                        0],\n",
       "[                       0,        -2/(r**2 + 2*r - 1),                          0, (r + 1)/(r**2 + 2*r - 1)]])"
      ]
     },
     "execution_count": 10,
     "metadata": {},
     "output_type": "execute_result"
    }
   ],
   "source": [
    "\n",
    "# 计算逆矩阵\n",
    "A_inv = A.inv()\n",
    "\n",
    "# 显示逆矩阵\n",
    "A_inv.simplify()\n",
    "A_inv\n"
   ]
  },
  {
   "cell_type": "markdown",
   "metadata": {},
   "source": [
    "要将上述内容扩展到任意阶导数，我们可以按照类似的推导步骤进行。以下是扩展到第 $n$ 阶导数的证明。\n",
    "\n",
    "### Step 1: 定义函数\n",
    "令 $f: \\mathbb{R} \\to \\mathbb{R}$ 为一个 $n$ 次可导函数。定义函数 $g: \\mathbb{R} \\to \\mathbb{R}$ 为 $f$ 在 $x_0$ 处的平移：\n",
    "$$\n",
    "    g(x) := f(x + x_0)\n",
    "$$\n",
    "其中 $x_0$ 是 $\\mathbb{R}$ 中的一个固定点。\n",
    "\n",
    "### Step 2: 计算 $g(x)$ 的第 $n$ 阶导数\n",
    "要计算 $g(x)$ 的第 $n$ 阶导数，我们需要使用链式法则的高阶导数版本。第 $n$ 阶导数 $g^{(n)}(x)$ 是通过对 $g(x)$ 逐次求导数得到的。\n",
    "\n",
    "我们先来计算 $g(x)$ 的第 $1$ 阶导数：\n",
    "$$\n",
    "    g'(x) = \\frac{d}{dx} f(x + x_0) = f'(x + x_0)\n",
    "$$\n",
    "接下来，我们计算第 $2$ 阶导数：\n",
    "$$\n",
    "    g''(x) = \\frac{d}{dx} g'(x) = \\frac{d}{dx} f'(x + x_0) = f''(x + x_0)\n",
    "$$\n",
    "依此类推，第 $n$ 阶导数为：\n",
    "$$\n",
    "    g^{(n)}(x) = \\frac{d^{n}}{dx^n} g(x) = \\frac{d^{n}}{dx^n} f(x + x_0)\n",
    "$$\n",
    "使用链式法则得：\n",
    "$$\n",
    "    g^{(n)}(x) = f^{(n)}(x + x_0)\n",
    "$$\n",
    "### Step 3: 在 $x = 0$ 处进行评估\n",
    "最后，我们在 $x = 0$ 处对 $g^{(n)}(x)$ 进行评估：\n",
    "$$\n",
    "    g^{(n)}(0) = f^{(n)}(0 + x_0) = f^{(n)}(x_0)\n",
    "$$\n",
    "### 结论\n",
    "因此，我们已经证明了对于任意正整数 $n$，有\n",
    "$$\n",
    "    g^{(n)}(0) = f^{(n)}(x_0)\n",
    "$$\n",
    "这意味着 $g(x)$ 的第 $n$ 阶导数在 $x = 0$ 处等于 $f(x)$ 的第 $n$ 阶导数在 $x_0$ 处的值。\n"
   ]
  },
  {
   "cell_type": "code",
   "execution_count": 11,
   "metadata": {},
   "outputs": [
    {
     "name": "stdout",
     "output_type": "stream",
     "text": [
      "Selected function: log(x + 2)\n",
      "Success: g^9(0) = f^9(3) = 8064/390625\n"
     ]
    }
   ],
   "source": [
    "import sympy as sp\n",
    "import numpy as np\n",
    "\n",
    "# 定义符号变量\n",
    "x = sp.symbols('x')\n",
    "\n",
    "# 定义函数 f(x)\n",
    "# 你可以在下面选择不同的函数类型，或者添加新的函数类型\n",
    "functions = [\n",
    "    x**3 + 2*x**2 + x + 1,              # 多项式\n",
    "    sp.exp(x),                           # 指数函数\n",
    "    sp.log(x + 2),                       # 对数函数（x + 2 避免 log(0)）\n",
    "    sp.sin(x),                           # 正弦函数\n",
    "    sp.cos(x),                           # 余弦函数\n",
    "    sp.tan(x),                           # 正切函数\n",
    "    x**2 * sp.sin(x),                    # 多项式与三角函数的组合\n",
    "    sp.exp(x) * sp.cos(x)                # 指数与三角函数的组合\n",
    "]\n",
    "\n",
    "# 随机选择一种函数\n",
    "f = np.random.choice(functions)\n",
    "\n",
    "# 打印所选择的函数类型\n",
    "print(f\"Selected function: {f}\")\n",
    "\n",
    "# 定义导数阶数 n\n",
    "n = np.random.randint(1, 10)  # 设定 n 的范围，例如从 1 到 4 阶导数\n",
    "\n",
    "# 计算 f^(n)(x)\n",
    "f_nth_derivative = sp.diff(f, x, n)\n",
    "\n",
    "# 定义移位函数 g(x) = f(x + x0)\n",
    "x0 = np.random.randint(1, 10)  # 设定 x0 的值\n",
    "g = f.subs(x, x + x0)\n",
    "\n",
    "# 计算 g^(n)(0)\n",
    "g_nth_derivative_at_0 = sp.diff(g, x, n).subs(x, 0)\n",
    "\n",
    "# 计算 f^(n)(x0)\n",
    "f_nth_derivative_at_x0 = f_nth_derivative.subs(x, x0)\n",
    "\n",
    "# 判断结果是否一致\n",
    "if g_nth_derivative_at_0 == f_nth_derivative_at_x0:\n",
    "    print(f\"Success: g^{n}(0) = f^{n}({x0}) = {g_nth_derivative_at_0}\")\n",
    "else:\n",
    "    print(f\"Mismatch: g^{n}(0) = {g_nth_derivative_at_0}, f^{n}({x0}) = {f_nth_derivative_at_x0}\")\n"
   ]
  }
 ],
 "metadata": {
  "kernelspec": {
   "display_name": "RCD",
   "language": "python",
   "name": "python3"
  },
  "language_info": {
   "codemirror_mode": {
    "name": "ipython",
    "version": 3
   },
   "file_extension": ".py",
   "mimetype": "text/x-python",
   "name": "python",
   "nbconvert_exporter": "python",
   "pygments_lexer": "ipython3",
   "version": "3.10.14"
  }
 },
 "nbformat": 4,
 "nbformat_minor": 2
}
