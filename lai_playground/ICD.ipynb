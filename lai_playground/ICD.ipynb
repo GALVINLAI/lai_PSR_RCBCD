{
 "cells": [
  {
   "cell_type": "code",
   "execution_count": 340,
   "metadata": {},
   "outputs": [],
   "source": [
    "import numpy as np\n",
    "import matplotlib.pyplot as plt\n",
    "from scipy.optimize import minimize, differential_evolution, shgo, dual_annealing\n",
    "from scipy.integrate import quad"
   ]
  },
  {
   "cell_type": "code",
   "execution_count": 341,
   "metadata": {},
   "outputs": [],
   "source": [
    "# Parameters\n",
    "r = 2\n",
    "n = 2*r+1\n",
    "\n",
    "# frequencies \n",
    "# Omegas = np.arange(1, r + 1)  # Equidistant frequencies\n",
    "Omegas = np.random.rand(r) * 10  # Random frequencies\n",
    "# Omegas = np.array([2,5])\n",
    "\n",
    "Omegas.sort()"
   ]
  },
  {
   "cell_type": "code",
   "execution_count": 342,
   "metadata": {},
   "outputs": [
    {
     "data": {
      "text/plain": [
       "array([[ 0.70710678,  1.        ,  0.        ,  1.        ,  0.        ],\n",
       "       [ 0.70710678, -0.57497956, -0.81816778,  0.98193687, -0.18920882],\n",
       "       [ 0.70710678, -0.33879702,  0.94085949,  0.92840004, -0.37158224],\n",
       "       [ 0.70710678,  0.96458228, -0.26378217,  0.84132359, -0.54053179],\n",
       "       [ 0.70710678, -0.77043316, -0.63752078,  0.72385327, -0.68995394]])"
      ]
     },
     "execution_count": 342,
     "metadata": {},
     "output_type": "execute_result"
    }
   ],
   "source": [
    "# Function definition\n",
    "def interp_matrix(xs, r, Omegas):\n",
    "    return np.array([[1/np.sqrt(2)] + [func(Omegas[k] * x) for k in range(r) for func in (np.cos, np.sin)] for x in xs])\n",
    "\n",
    "# Generate random points for xs\n",
    "# random_xs = np.random.rand(2 * r + 1) * 2 * np.pi\n",
    "\n",
    "# Generate 2pi/n-equidistant points for xs\n",
    "shift = 0\n",
    "equisitant_xs =  np.linspace(0, 2 * np.pi, n, endpoint=False) + shift\n",
    "\n",
    "A = interp_matrix(equisitant_xs, r, Omegas)\n",
    "\n",
    "A\n"
   ]
  },
  {
   "cell_type": "code",
   "execution_count": 343,
   "metadata": {},
   "outputs": [],
   "source": [
    "import numpy as np\n",
    "\n",
    "def construct_Es_inv(s, Omegas):\n",
    "    \"\"\"\n",
    "    构造块对角矩阵 E_s^{-1}，每个块为 B_i^T，其中 B_i 为旋转矩阵。\n",
    "    \n",
    "    参数:\n",
    "    s -- 标量，旋转角度的尺度。\n",
    "    Omegas -- 列表，包含 Omega_i 的值。\n",
    "    \n",
    "    返回:\n",
    "    E_s_inv -- 构造的块对角矩阵 E_s^{-1}。\n",
    "    \"\"\"\n",
    "    # 计算旋转矩阵 B_i^T\n",
    "    num_blocks = len(Omegas) + 1  # 第一块是 1x1 矩阵 [1]，之后每个块为 2x2 矩阵\n",
    "    total_size = num_blocks * 2 - 1  # 计算总大小\n",
    "    \n",
    "    # 初始化一个全零矩阵，大小为 total_size x total_size\n",
    "    E_s_inv = np.zeros((total_size, total_size))\n",
    "    \n",
    "    # 设置第一块 1x1 矩阵\n",
    "    E_s_inv[0, 0] = 1\n",
    "    \n",
    "    # 填充后续的旋转矩阵块 B_i^T\n",
    "    for i, Omega_i in enumerate(Omegas):\n",
    "        # 构造每个 B_i\n",
    "        B_i = np.array([[np.cos(Omega_i * s), np.sin(Omega_i * s)],\n",
    "                        [-np.sin(Omega_i * s), np.cos(Omega_i * s)]])\n",
    "        # 将 B_i^T 填入矩阵 E_s_inv\n",
    "        E_s_inv[2*i+1:2*i+3, 2*i+1:2*i+3] = B_i.T\n",
    "    \n",
    "    return E_s_inv\n"
   ]
  },
  {
   "cell_type": "code",
   "execution_count": 344,
   "metadata": {},
   "outputs": [
    {
     "name": "stdout",
     "output_type": "stream",
     "text": [
      "[[ 1.          0.          0.          0.          0.        ]\n",
      " [ 0.         -0.06042933 -0.99817248  0.          0.        ]\n",
      " [ 0.          0.99817248 -0.06042933  0.          0.        ]\n",
      " [ 0.          0.          0.         -0.75356161 -0.65737729]\n",
      " [ 0.          0.          0.          0.65737729 -0.75356161]]\n"
     ]
    }
   ],
   "source": [
    "s = 0.5\n",
    "E_s_inv = construct_Es_inv(s, Omegas)\n",
    "print(E_s_inv)"
   ]
  },
  {
   "cell_type": "code",
   "execution_count": 345,
   "metadata": {},
   "outputs": [
    {
     "data": {
      "text/plain": [
       "True"
      ]
     },
     "execution_count": 345,
     "metadata": {},
     "output_type": "execute_result"
    }
   ],
   "source": [
    "s = np.random.rand()\n",
    "xs = np.random.rand(n) * 2 * np.pi\n",
    "shift_xs = xs + s\n",
    "\n",
    " # 构造矩阵 A_x 和 A_{x+s1}\n",
    "A_x = interp_matrix(xs, r, Omegas)\n",
    "A_x_s = interp_matrix(xs + s, r, Omegas)\n",
    "\n",
    "# 计算矩阵 A_x 和 A_{x+s1} 的逆矩阵\n",
    "A_x_inv = np.linalg.inv(A_x)\n",
    "A_x_s_inv = np.linalg.inv(A_x_s)\n",
    "\n",
    "# 构造 E_s^{-1}\n",
    "E_s_inv = construct_Es_inv(s, Omegas)\n",
    "\n",
    "# 检查等式是否成立\n",
    "lhs = A_x_s_inv\n",
    "rhs = E_s_inv @ A_x_inv\n",
    "\n",
    "# 比较两边的差异\n",
    "np.allclose(lhs, rhs)\n"
   ]
  },
  {
   "cell_type": "code",
   "execution_count": 346,
   "metadata": {},
   "outputs": [
    {
     "name": "stdout",
     "output_type": "stream",
     "text": [
      "[[ 0.70710678 -0.763952   -0.64527308  0.84079436 -0.54135463]\n",
      " [ 0.70710678  0.90000724  0.43587495  0.78366177  0.62118775]\n",
      " [ 0.70710678  0.72031185 -0.69365037  0.25442617 -0.9670922 ]\n",
      " [ 0.70710678 -0.89553356 -0.44499399  0.45056759 -0.89274232]\n",
      " [ 0.70710678 -0.79895865 -0.60138596 -0.73666695  0.67625572]]\n"
     ]
    }
   ],
   "source": [
    "print(A_x)"
   ]
  },
  {
   "cell_type": "code",
   "execution_count": 347,
   "metadata": {},
   "outputs": [
    {
     "name": "stdout",
     "output_type": "stream",
     "text": [
      "[[-0.87310228  0.62569985  0.13552104  1.12320354  0.40289141]\n",
      " [-0.06435503  0.1141681   0.50154926 -0.47938083 -0.07198149]\n",
      " [-1.538279    0.59388768 -0.51953732  1.71708362 -0.25315497]\n",
      " [ 1.14746363  0.13044833 -0.21490481 -0.66997136 -0.39303578]\n",
      " [ 0.71889768  0.15087734 -0.24527179 -0.94364611  0.31914287]]\n"
     ]
    }
   ],
   "source": [
    "print(A_x_inv)"
   ]
  },
  {
   "cell_type": "code",
   "execution_count": 348,
   "metadata": {},
   "outputs": [
    {
     "name": "stdout",
     "output_type": "stream",
     "text": [
      "[[-0.87310228  0.62569985  0.13552104  1.12320354  0.40289141]\n",
      " [ 0.45217708 -0.09036119  0.64606443 -1.02441691  0.0165366 ]\n",
      " [-1.47172679  0.59797306 -0.32260104  1.45902437 -0.2626696 ]\n",
      " [ 0.65626547  0.04114354 -0.06937255 -0.12964603 -0.49839042]\n",
      " [ 1.18439955  0.19516133 -0.31863737 -1.15000935  0.08908584]]\n"
     ]
    }
   ],
   "source": [
    "print(lhs)"
   ]
  },
  {
   "cell_type": "code",
   "execution_count": 349,
   "metadata": {},
   "outputs": [
    {
     "name": "stdout",
     "output_type": "stream",
     "text": [
      "[[-0.87310228  0.62569985  0.13552104  1.12320354  0.40289141]\n",
      " [ 0.45217708 -0.09036119  0.64606443 -1.02441691  0.0165366 ]\n",
      " [-1.47172679  0.59797306 -0.32260104  1.45902437 -0.2626696 ]\n",
      " [ 0.65626547  0.04114354 -0.06937255 -0.12964603 -0.49839042]\n",
      " [ 1.18439955  0.19516133 -0.31863737 -1.15000935  0.08908584]]\n"
     ]
    }
   ],
   "source": [
    "print(lhs)"
   ]
  },
  {
   "cell_type": "markdown",
   "metadata": {},
   "source": [
    "你希望写一个不显式构造 E_s_inv 的函数，而是直接利用其结构特性来计算 E_s_inv @ 某个矩阵。由于 E_s_inv 是一个块对角矩阵，且每个块都是旋转矩阵的转置，我们可以利用这一特性来简化计算。"
   ]
  },
  {
   "cell_type": "code",
   "execution_count": 350,
   "metadata": {},
   "outputs": [],
   "source": [
    "import numpy as np\n",
    "\n",
    "def apply_Es_inv_to_matrix(s, Omegas, M):\n",
    "    \"\"\"\n",
    "    利用 E_s^{-1} 矩阵的块对角特性高效地计算 E_s^{-1} @ M。\n",
    "    \n",
    "    参数:\n",
    "    s -- 标量，旋转角度的尺度。\n",
    "    Omegas -- 列表，包含 Omega_i 的值。\n",
    "    M -- 要与 E_s^{-1} 相乘的矩阵。\n",
    "    \n",
    "    返回:\n",
    "    result -- 计算结果 E_s^{-1} @ M。\n",
    "    \"\"\"\n",
    "    # 获取 M 的尺寸，假设 M 的行数是与 E_s_inv 的大小兼容的\n",
    "    n_rows, n_cols = M.shape\n",
    "    num_blocks = len(Omegas) + 1  # 第一块是 1x1，后续每块是 2x2\n",
    "    total_size = num_blocks * 2 - 1  # 总大小\n",
    "    \n",
    "    # 结果矩阵初始化为 M（我们将逐块更新它）\n",
    "    result = M.copy()\n",
    "    \n",
    "    # 处理第一个 1x1 块（直接不变），即第一行不变\n",
    "    # 第一行保持原样\n",
    "    result[0, :] = M[0, :]\n",
    "    \n",
    "    # 处理后续的 2x2 块\n",
    "    for i, Omega_i in enumerate(Omegas):\n",
    "        # 构造旋转矩阵 B_i\n",
    "        B_i = np.array([[np.cos(Omega_i * s), np.sin(Omega_i * s)],\n",
    "                        [-np.sin(Omega_i * s), np.cos(Omega_i * s)]])\n",
    "        \n",
    "        # 计算 B_i^T 与 M 的对应块相乘\n",
    "        start_idx = 2 * i + 1  # 每个块的开始索引\n",
    "        end_idx = start_idx + 2  # 每个块的结束索引\n",
    "        \n",
    "        # 提取 M 的当前 2xN 子矩阵\n",
    "        M_block = M[start_idx:end_idx, :]\n",
    "        \n",
    "        # 旋转矩阵作用在 M 的对应块上\n",
    "        result[start_idx:end_idx, :] = B_i.T @ M_block\n",
    "    \n",
    "    return result\n"
   ]
  },
  {
   "cell_type": "code",
   "execution_count": 351,
   "metadata": {},
   "outputs": [
    {
     "data": {
      "text/plain": [
       "True"
      ]
     },
     "execution_count": 351,
     "metadata": {},
     "output_type": "execute_result"
    }
   ],
   "source": [
    "s = np.random.rand()\n",
    "xs = np.random.rand(n) * 2 * np.pi\n",
    "shift_xs = xs + s\n",
    "\n",
    " # 构造矩阵 A_x 和 A_{x+s1}\n",
    "A_x = interp_matrix(xs, r, Omegas)\n",
    "A_x_s = interp_matrix(xs + s, r, Omegas)\n",
    "\n",
    "# 计算矩阵 A_x 和 A_{x+s1} 的逆矩阵\n",
    "A_x_inv = np.linalg.inv(A_x)\n",
    "A_x_s_inv = np.linalg.inv(A_x_s)\n",
    "\n",
    "# 构造 E_s^{-1}\n",
    "E_s_inv = construct_Es_inv(s, Omegas)\n",
    "\n",
    "# 检查等式是否成立\n",
    "lhs = A_x_s_inv\n",
    "rhs = apply_Es_inv_to_matrix(s, Omegas, A_x_inv)\n",
    "# 比较两边的差异\n",
    "np.allclose(lhs, rhs)"
   ]
  },
  {
   "cell_type": "code",
   "execution_count": 19,
   "metadata": {},
   "outputs": [],
   "source": [
    "def mse(xs, r, Omegas, reg=1e-6):\n",
    "    # Create interpolation matrix\n",
    "    A = interp_matrix(xs, r, Omegas)\n",
    "    regularized_matrix = A.T @ A + reg * np.eye(A.shape[1])\n",
    "    return np.trace(np.linalg.inv(regularized_matrix))\n",
    "\n",
    "def condition_number(xs, r, Omegas, cond=2):\n",
    "    A = interp_matrix(xs, r, Omegas)\n",
    "    return np.linalg.cond(A, cond) # 默认是 2-norm condition number\n",
    "\n",
    "def t_x(x, r, Omegas, order=1):\n",
    "    if order == 0:\n",
    "        return np.array([1 / np.sqrt(2)] + [func(Omegas[k] * x) for k in range(r) for func in (np.cos, np.sin)]).reshape(-1, 1)\n",
    "    elif order == 1:\n",
    "        return np.array([0] + [(Omegas[k] ** order) * (-np.sin(Omegas[k] * x)) for k in range(r)] + \n",
    "                        [(Omegas[k] ** order) * np.cos(Omegas[k] * x) for k in range(r)]).reshape(-1, 1)\n",
    "    elif order == 2:\n",
    "        return np.array([0] + [(Omegas[k] ** order) * (-np.cos(Omegas[k] * x)) for k in range(r)] + \n",
    "                        [(Omegas[k] ** order) * (-np.sin(Omegas[k] * x)) for k in range(r)]).reshape(-1, 1)\n",
    "    else:\n",
    "        raise ValueError(\"Order must be 0, 1, or 2.\")\n",
    "\n",
    "def compute_I_d(r, Omegas, order):\n",
    "    # 矩阵维度为 2*r + 1（与 t_x(x) 的输出维度相匹配）\n",
    "    I_d = np.zeros((n, n))\n",
    "    \n",
    "    # 计算 I_d 的每个元素\n",
    "    for i in range(n):\n",
    "        for j in range(n):\n",
    "            # 定义被积函数，积分变量为 x\n",
    "            func = lambda x: (t_x(x, r, Omegas, order) @ t_x(x, r, Omegas, order).T)[i, j]\n",
    "            # 在 [0, 2*pi] 上对 func(x) 进行积分\n",
    "            I_d[i, j], _ = quad(func, 0, 2 * np.pi)\n",
    "    \n",
    "    # 除以 2*pi 进行归一化\n",
    "    return I_d / (2 * np.pi)\n",
    "\n",
    "def avr_var_h(xs, r, Omegas, reg=1e-6, order=1):\n",
    "    A = interp_matrix(xs, r, Omegas)\n",
    "    regularized_matrix = A.T @ A + reg * np.eye(A.shape[1])\n",
    "    VAR = np.linalg.inv(regularized_matrix)\n",
    "    In = compute_I_d(r, Omegas, order)\n",
    "    return np.sum(VAR * In)\n",
    "\n",
    "\n",
    "def variance_fhat_x(x, xs, r, Omegas, reg=1e-6):\n",
    "    A = interp_matrix(xs, r, Omegas)\n",
    "    regularized_matrix = A.T @ A + reg * np.eye(A.shape[1])\n",
    "    VAR = np.linalg.inv(regularized_matrix)\n",
    "    t0 = t_x(x, r, Omegas, order=0)\n",
    "    return t0.T @ VAR @ t0"
   ]
  },
  {
   "cell_type": "code",
   "execution_count": 20,
   "metadata": {},
   "outputs": [],
   "source": [
    "xs = np.random.rand(n) * 2 * np.pi\n",
    "# xs = np.linspace(0, 2 * np.pi, n, endpoint=False)"
   ]
  },
  {
   "cell_type": "code",
   "execution_count": 21,
   "metadata": {},
   "outputs": [
    {
     "name": "stdout",
     "output_type": "stream",
     "text": [
      "6.007274467718474 4.6573582236657165 8.6655165863854 150.3283190592427\n",
      "12.500000000000002\n"
     ]
    }
   ],
   "source": [
    "shift = np.random.rand()\n",
    "xs = xs + shift*10\n",
    "print(mse(xs, r, Omegas), condition_number(xs, r, Omegas, 2), condition_number(xs, r, Omegas, 'fro'), avr_var_h(xs, r, Omegas))\n",
    "print(np.linalg.norm(interp_matrix(xs, r, Omegas), 'fro')**2)\n"
   ]
  },
  {
   "cell_type": "code",
   "execution_count": 22,
   "metadata": {},
   "outputs": [
    {
     "data": {
      "text/plain": [
       "47041.62548145063"
      ]
     },
     "execution_count": 22,
     "metadata": {},
     "output_type": "execute_result"
    }
   ],
   "source": [
    "random_xs = np.random.rand(2 * r + 1) * 2 * np.pi\n",
    "avr_var_h(random_xs, r, Omegas)"
   ]
  },
  {
   "cell_type": "code",
   "execution_count": 23,
   "metadata": {},
   "outputs": [
    {
     "name": "stdout",
     "output_type": "stream",
     "text": [
      "Optimized mse result: 2.0209689475311685\n",
      "Optimal xs for mse: [ 638386.23958328  283742.25890783     661.86142488 -468863.58799144\n",
      " -126559.45685906]\n",
      "Optimized condition number result: 1.2506034381465403\n",
      "Optimal xs for condition number: [ 443445.89182018  188741.75565293  485452.56841689  988264.54404503\n",
      " -547865.83247346]\n"
     ]
    }
   ],
   "source": [
    "# 设置变量 xs 的范围（在 [0, 2π] 范围内搜索）\n",
    "# bounds = [(0, 6 * np.pi) for _ in range(2 * r + 1)]# 优化 mse\n",
    "# 设置一个宽松的边界范围，如在 [-1e6, 1e6] 内搜索\n",
    "bounds = [(-1e6, 1e6) for _ in range(2 * r + 1)]\n",
    "x0 = np.linspace(0, 2 * np.pi, n, endpoint=False)\n",
    "\n",
    "result_mse = differential_evolution(mse, bounds, args=(r, Omegas), strategy='best1bin', maxiter=1000)\n",
    "print(\"Optimized mse result:\", result_mse.fun)\n",
    "print(\"Optimal xs for mse:\", result_mse.x)\n",
    "\n",
    "# 优化 condition_number\n",
    "result_cond = differential_evolution(condition_number, bounds, args=(r, Omegas), strategy='best1bin', maxiter=1000)\n",
    "print(\"Optimized condition number result:\", result_cond.fun)\n",
    "print(\"Optimal xs for condition number:\", result_cond.x)\n",
    "\n",
    "# 优化 avr_var_h\n",
    "# result_avr_var = differential_evolution(avr_var_h, bounds, args=(r, Omegas), strategy='best1bin', maxiter=1000)\n",
    "# print(\"Optimized avr_var_h result:\", result_avr_var.fun)\n",
    "# print(\"Optimal xs for avr_var_h:\", result_avr_var.x)\n",
    "\n",
    "# from scipy.optimize import minimize\n",
    "\n",
    "# result_avr_var = minimize(avr_var_h, x0, args=(r, Omegas), method='Nelder-Mead')\n",
    "# print(\"Optimized avr_var_h result:\", result_avr_var.fun)\n",
    "# print(\"Optimal xs for avr_var_h:\", result_avr_var.x)\n"
   ]
  },
  {
   "cell_type": "code",
   "execution_count": 24,
   "metadata": {},
   "outputs": [
    {
     "name": "stdout",
     "output_type": "stream",
     "text": [
      "Optimized avr_var_h result: 77777637.5705159\n",
      "Optimal xs for avr_var_h: [ 999023.42611445  999023.42611445 -999023.42611445 -999023.42611445\n",
      "  999023.42611445]\n"
     ]
    }
   ],
   "source": [
    "from scipy.optimize import shgo\n",
    "\n",
    "result_avr_var = shgo(avr_var_h, bounds=bounds, args=(r, Omegas))\n",
    "print(\"Optimized avr_var_h result:\", result_avr_var.fun)\n",
    "print(\"Optimal xs for avr_var_h:\", result_avr_var.x)\n"
   ]
  },
  {
   "cell_type": "code",
   "execution_count": 25,
   "metadata": {},
   "outputs": [
    {
     "name": "stdout",
     "output_type": "stream",
     "text": [
      "2.0209689475311685\n",
      "2.0822374683547666\n",
      "3000000.356387874\n"
     ]
    }
   ],
   "source": [
    "print(mse(result_mse.x, r, Omegas))\n",
    "print(mse(result_cond.x, r, Omegas))\n",
    "print(mse(result_avr_var.x, r, Omegas))"
   ]
  },
  {
   "cell_type": "code",
   "execution_count": 26,
   "metadata": {},
   "outputs": [
    {
     "name": "stdout",
     "output_type": "stream",
     "text": [
      "1.2506034381465403\n",
      "1.1371321036664328\n",
      "1.3974336226166403e+33\n"
     ]
    }
   ],
   "source": [
    "print(condition_number(result_cond.x, r, Omegas))\n",
    "print(condition_number(result_mse.x, r, Omegas))\n",
    "print(condition_number(result_avr_var.x, r, Omegas))"
   ]
  },
  {
   "cell_type": "code",
   "execution_count": 27,
   "metadata": {},
   "outputs": [
    {
     "name": "stdout",
     "output_type": "stream",
     "text": [
      "77777637.5705159\n",
      "55.364055740787975\n",
      "56.10303709551786\n"
     ]
    }
   ],
   "source": [
    "print(avr_var_h(result_avr_var.x, r, Omegas))\n",
    "print(avr_var_h(result_mse.x, r, Omegas))\n",
    "print(avr_var_h(result_cond.x, r, Omegas))"
   ]
  },
  {
   "cell_type": "code",
   "execution_count": 28,
   "metadata": {},
   "outputs": [
    {
     "data": {
      "text/plain": [
       "array([[1.02383092]])"
      ]
     },
     "execution_count": 28,
     "metadata": {},
     "output_type": "execute_result"
    }
   ],
   "source": [
    "variance_fhat_x(np.random.rand(), result_mse.x, r, Omegas, reg=1e-6)\n"
   ]
  },
  {
   "cell_type": "code",
   "execution_count": 29,
   "metadata": {},
   "outputs": [
    {
     "data": {
      "image/png": "[encoded data removed]",
      "text/plain": [
       "<Figure size 640x480 with 1 Axes>"
      ]
     },
     "metadata": {},
     "output_type": "display_data"
    }
   ],
   "source": [
    "\n",
    "# 生成 x 的值\n",
    "x_values = np.linspace(-10, 10, 100)  # x 的取值范围\n",
    "\n",
    "# 计算 variance_fhat_x 对应的 y 值\n",
    "y_values = [variance_fhat_x(x, result_mse.x, r, Omegas, reg=1e-6).item() for x in x_values]\n",
    "\n",
    "# 绘图\n",
    "plt.plot(x_values, y_values, label=\"variance_fhat_x(x)\")\n",
    "plt.xlabel('x')\n",
    "plt.ylabel('Variance')\n",
    "plt.title('Plot of variance_fhat_x(x) vs x')\n",
    "plt.legend()\n",
    "plt.grid(True)\n",
    "plt.show()"
   ]
  },
  {
   "cell_type": "code",
   "execution_count": 30,
   "metadata": {},
   "outputs": [
    {
     "name": "stdout",
     "output_type": "stream",
     "text": [
      "3000000.356468966 7.46642701462262e+32 84148208.28744917\n"
     ]
    }
   ],
   "source": [
    "shift = np.random.rand()\n",
    "xs = result_avr_var.x + shift\n",
    "print(mse(xs, r, Omegas), condition_number(xs, r, Omegas), avr_var_h(xs, r, Omegas))"
   ]
  }
 ],
 "metadata": {
  "kernelspec": {
   "display_name": "RCD",
   "language": "python",
   "name": "python3"
  },
  "language_info": {
   "codemirror_mode": {
    "name": "ipython",
    "version": 3
   },
   "file_extension": ".py",
   "mimetype": "text/x-python",
   "name": "python",
   "nbconvert_exporter": "python",
   "pygments_lexer": "ipython3",
   "version": "3.10.14"
  }
 },
 "nbformat": 4,
 "nbformat_minor": 2
}
