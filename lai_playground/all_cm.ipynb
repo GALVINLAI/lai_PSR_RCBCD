{
 "cells": [
  {
   "cell_type": "markdown",
   "metadata": {},
   "source": [
    "Here is the Python code that demonstrates how to calculate all types of condition numbers for the given matrix $A$:"
   ]
  },
  {
   "cell_type": "code",
   "execution_count": 1,
   "metadata": {},
   "outputs": [
    {
     "name": "stdout",
     "output_type": "stream",
     "text": [
      "Condition numbers for matrix A:\n",
      "2-norm: 1.414213562373095\n",
      "Frobenius norm: 3.1622776601683795\n",
      "1-norm: 3.7320508075688776\n",
      "Infinity norm: 3.154700538379251\n"
     ]
    }
   ],
   "source": [
    "import numpy as np\n",
    "from numpy.linalg import cond\n",
    "\n",
    "# Define the matrix A\n",
    "A = np.array([\n",
    "    [1, 1, 0],\n",
    "    [1, -0.5, np.sqrt(3) / 2],\n",
    "    [1, -0.5, -np.sqrt(3) / 2]\n",
    "])\n",
    "\n",
    "# Compute different types of condition numbers\n",
    "condition_numbers = {\n",
    "    '2-norm': cond(A, 2),\n",
    "    'Frobenius norm': cond(A, 'fro'),\n",
    "    '1-norm': cond(A, 1),\n",
    "    'Infinity norm': cond(A, np.inf)\n",
    "}\n",
    "\n",
    "print(\"Condition numbers for matrix A:\")\n",
    "for norm_type, value in condition_numbers.items():\n",
    "    print(f\"{norm_type}: {value}\")\n"
   ]
  },
  {
   "cell_type": "markdown",
   "metadata": {},
   "source": [
    "To run this code, simply copy and paste it into a Python environment. The code defines the matrix $A$ and calculates its condition numbers using various norms, including the 2-norm, Frobenius norm, 1-norm, and Infinity norm. The results will be printed out to the console.\n"
   ]
  }
 ],
 "metadata": {
  "kernelspec": {
   "display_name": "RCD",
   "language": "python",
   "name": "python3"
  },
  "language_info": {
   "codemirror_mode": {
    "name": "ipython",
    "version": 3
   },
   "file_extension": ".py",
   "mimetype": "text/x-python",
   "name": "python",
   "nbconvert_exporter": "python",
   "pygments_lexer": "ipython3",
   "version": "3.10.14"
  }
 },
 "nbformat": 4,
 "nbformat_minor": 2
}
