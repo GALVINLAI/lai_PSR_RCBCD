{
 "cells": [
  {
   "cell_type": "markdown",
   "metadata": {},
   "source": [
    "\n",
    "**Lemma.** If $\\left\\{\\omega_j\\right\\}_{j \\in[d]}$ are eigenvalues of a $d\\times d$ Hermitian matrix $G$, then $\\left\\{\\exp \\left(i \\omega_j x\\right)\\right\\}_{j \\in[d]}$ are eigenvalues of unitary matrix $U(x)=\\exp (i x G)$.\n",
    "\n",
    "**Proof.** \n",
    "\n",
    "Let $G$ be a Hermitian operator with real eigenvalues $\\left\\{\\omega_j\\right\\}_{j \\in[d]}$ and corresponding eigenbasis $\\left\\{\\left|\\phi_j\\right\\rangle\\right\\}_{j \\in[d]}$. It can be diagonalized as\n",
    "\\begin{equation}\n",
    "    G=\\sum_{j=1}^d \\omega_j\\left|\\phi_j\\right\\rangle\\left\\langle\\phi_j\\right| .\n",
    "\\end{equation}\n",
    "We use $e^A=\\sum_{k=0}^{\\infty} \\frac{1}{k!} A^k$ for general squared matrix $A$ to define the matrix exponential. Then, the exponential of $G$ scaled by $i x$ is given by\n",
    "\\begin{equation}\n",
    "    U(x):=\\exp (i x G)=\\exp \\left(i x \\sum_{j=1}^d \\omega_j\\left|\\phi_j\\right\\rangle\\left\\langle\\phi_j\\right|\\right)=\\sum_{j=1}^d \\exp \\left(i x \\omega_j\\right)\\left|\\phi_j\\right\\rangle\\left\\langle\\phi_j\\right|.\n",
    "\\end{equation}\n",
    "Let us prove the last equality. Since $P_j:=\\left|\\phi_j\\right\\rangle\\left\\langle\\phi_j\\right|$ are projection operators, they satisfy $P_j P_k=\\delta_{j k} P_j$ for all $j,k=1,\\ldots,d$. Let $A:=i x \\sum_{j=1}^d \\omega_j P_j.$ First, we compute $A^2:$\n",
    "\\begin{equation}\n",
    "    A^2=(i x)^2\\left(\\sum_{j=1}^d \\omega_j P_j\\right)\\left(\\sum_{k=1}^d \\omega_k P_k\\right)=(i x)^2 \\sum_{j=1}^d \\omega_j^2 P_j=\\sum_{j=1}^d (i x\\omega_j)^2 P_j.\n",
    "\\end{equation}\n",
    "Next, let's compute $A^3=A^2 \\cdot A$ :\n",
    "\\begin{equation}\n",
    "    A^3\n",
    "    =(i x)^3\\left(\\sum_{j=1}^d \\omega_j^2 P_j\\right)\\left(\\sum_{k=1}^d \\omega_k P_k\\right)\n",
    "    =(i x)^3 \\sum_{j=1}^d \\omega_j^3 P_j=\\sum_{j=1}^d (i x\\omega_j)^3 P_j.\n",
    "\\end{equation}\n",
    "Similarly, for any positive integer $k\\ge 1$, we have\n",
    "\\begin{equation}\n",
    "    A^k=\\sum_{j=1}^d (i x\\omega_j)^k P_j.\n",
    "\\end{equation}\n",
    "Now, we have\n",
    "\\begin{equation}\n",
    "    U(x)\n",
    "    =\\sum_{k=0}^{\\infty} \\frac{1}{k!} A^k\n",
    "    =\\sum_{k=0}^{\\infty} \\frac{1}{k!} \\left( \\sum_{j=1}^d (i x\\omega_j)^k P_j \\right)\n",
    "    =\\sum_{j=1}^d \\left( \\sum_{k=0}^{\\infty} \\frac{1}{k!} (i x\\omega_j)^k \\right) P_j\n",
    "    =\\sum_{j=1}^d \\exp \\left(i x \\omega_j\\right) P_j.\n",
    "\\end{equation}\n",
    "We complete the proof.\n",
    "\n",
    "---\n",
    "\n",
    "To verify this lemma using a Python script, we can perform the following steps:\n",
    "\n",
    "1. Generate a random Hermitian matrix $G$.\n",
    "2. Compute its eigenvalues $\\{\\omega_j\\}_{j \\in [d]}$.\n",
    "3. Form the unitary matrix $U(x) = \\exp(i x G)$ for a given $x$.\n",
    "4. Compute the eigenvalues of $U(x)$.\n",
    "5. Verify that the eigenvalues of $U(x)$ are $\\{\\exp(i \\omega_j x)\\}_{j \\in [d]}$.\n",
    "\n",
    "Here's the Python script to perform this verification:"
   ]
  },
  {
   "cell_type": "code",
   "execution_count": 7,
   "metadata": {},
   "outputs": [
    {
     "name": "stdout",
     "output_type": "stream",
     "text": [
      "Eigenvalues of G: [-0.73711011 -0.45334699  0.07993513  0.87085954  2.99400105]\n",
      "Eigenvalues of U(x): [0.07372884+0.99727833j 0.90668885+0.42180011j 0.93284889-0.36026789j\n",
      " 0.97441938-0.22473736j 0.9992014 +0.03995693j]\n",
      "Theoretical eigenvalues of U(x): [0.07372884+0.99727833j 0.90668885+0.42180011j 0.93284889-0.36026789j\n",
      " 0.97441938-0.22473736j 0.9992014 +0.03995693j]\n",
      "Are the computed and theoretical eigenvalues of U(x) equal? True\n"
     ]
    }
   ],
   "source": [
    "import numpy as np\n",
    "from scipy.linalg import expm  # Import expm from scipy.linalg\n",
    "\n",
    "# Function to generate a random Hermitian matrix\n",
    "def generate_hermitian_matrix(d):\n",
    "    A = np.random.rand(d, d) + 1j * np.random.rand(d, d)\n",
    "    return (A + A.conj().T) / 2\n",
    "\n",
    "# Parameters\n",
    "d = 5  # Dimension of the matrix\n",
    "x = 0.5  # Arbitrary choice of x\n",
    "\n",
    "# Generate a random Hermitian matrix\n",
    "G = generate_hermitian_matrix(d)\n",
    "\n",
    "# Compute eigenvalues of G\n",
    "eigenvalues_G = np.linalg.eigvalsh(G)\n",
    "\n",
    "# Compute the unitary matrix U(x) = exp(i x G)\n",
    "U_x = expm(1j * x * G)  # Use expm from scipy.linalg\n",
    "\n",
    "# Compute eigenvalues of U(x)\n",
    "eigenvalues_U_x = np.linalg.eigvals(U_x)\n",
    "\n",
    "# Theoretical eigenvalues of U(x)\n",
    "theoretical_eigenvalues_U_x = np.exp(1j * x * eigenvalues_G)\n",
    "\n",
    "# Sort eigenvalues for comparison\n",
    "eigenvalues_U_x_sorted = np.sort_complex(eigenvalues_U_x)\n",
    "theoretical_eigenvalues_sorted = np.sort_complex(theoretical_eigenvalues_U_x)\n",
    "\n",
    "# Verify the proposition\n",
    "are_equal = np.allclose(eigenvalues_U_x_sorted, theoretical_eigenvalues_sorted, atol=1e-10)\n",
    "\n",
    "print(\"Eigenvalues of G:\", eigenvalues_G)\n",
    "print(\"Eigenvalues of U(x):\", eigenvalues_U_x_sorted)\n",
    "print(\"Theoretical eigenvalues of U(x):\", theoretical_eigenvalues_sorted)\n",
    "print(\"Are the computed and theoretical eigenvalues of U(x) equal?\", are_equal)\n"
   ]
  }
 ],
 "metadata": {
  "kernelspec": {
   "display_name": "RCD",
   "language": "python",
   "name": "python3"
  },
  "language_info": {
   "codemirror_mode": {
    "name": "ipython",
    "version": 3
   },
   "file_extension": ".py",
   "mimetype": "text/x-python",
   "name": "python",
   "nbconvert_exporter": "python",
   "pygments_lexer": "ipython3",
   "version": "3.10.14"
  }
 },
 "nbformat": 4,
 "nbformat_minor": 2
}
