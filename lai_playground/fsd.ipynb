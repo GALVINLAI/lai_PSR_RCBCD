{
 "cells": [
  {
   "cell_type": "code",
   "execution_count": 5,
   "metadata": {},
   "outputs": [
    {
     "data": {
      "text/latex": [
       "$\\displaystyle \\left[\\begin{matrix}0 & 0 & 0 & 0 & 0 & 0 & 0\\\\0 & \\pi & 0 & 0 & 0 & 0 & 0\\\\0 & 0 & \\pi & 0 & 0 & 0 & 0\\\\0 & 0 & 0 & 4 \\pi & 0 & 0 & 0\\\\0 & 0 & 0 & 0 & 4 \\pi & 0 & 0\\\\0 & 0 & 0 & 0 & 0 & 9 \\pi & 0\\\\0 & 0 & 0 & 0 & 0 & 0 & 9 \\pi\\end{matrix}\\right]$"
      ],
      "text/plain": [
       "Matrix([\n",
       "[0,  0,  0,    0,    0,    0,    0],\n",
       "[0, pi,  0,    0,    0,    0,    0],\n",
       "[0,  0, pi,    0,    0,    0,    0],\n",
       "[0,  0,  0, 4*pi,    0,    0,    0],\n",
       "[0,  0,  0,    0, 4*pi,    0,    0],\n",
       "[0,  0,  0,    0,    0, 9*pi,    0],\n",
       "[0,  0,  0,    0,    0,    0, 9*pi]])"
      ]
     },
     "execution_count": 5,
     "metadata": {},
     "output_type": "execute_result"
    }
   ],
   "source": [
    "import sympy as sp\n",
    "\n",
    "# Define the symbols\n",
    "x = sp.symbols('x')\n",
    "r = 3  # We'll choose a specific r for demonstration\n",
    "\n",
    "# Define the vector t^(1)(x)\n",
    "t_1 = [0]\n",
    "for i in range(1, r+1):\n",
    "    t_1.append(-i * sp.sin(i * x))\n",
    "    t_1.append(i * sp.cos(i * x))\n",
    "\n",
    "# Compute the outer product of t_1 with its transpose\n",
    "t_1_matrix = sp.Matrix(t_1)\n",
    "outer_product = t_1_matrix * t_1_matrix.T\n",
    "\n",
    "# Compute the integral of each element of the matrix over [0, 2*pi]\n",
    "integrated_matrix = sp.integrate(outer_product, (x, 0, 2 * sp.pi))\n",
    "\n",
    "# Display the resulting matrix\n",
    "integrated_matrix.simplify()\n"
   ]
  },
  {
   "cell_type": "code",
   "execution_count": 12,
   "metadata": {},
   "outputs": [
    {
     "data": {
      "text/latex": [
       "$\\displaystyle \\left[\\begin{matrix}\\pi & 0 & 0 & 0 & 0 & 0 & 0\\\\0 & \\pi & 0 & 0 & 0 & 0 & 0\\\\0 & 0 & \\pi & 0 & 0 & 0 & 0\\\\0 & 0 & 0 & \\pi & 0 & 0 & 0\\\\0 & 0 & 0 & 0 & \\pi & 0 & 0\\\\0 & 0 & 0 & 0 & 0 & \\pi & 0\\\\0 & 0 & 0 & 0 & 0 & 0 & \\pi\\end{matrix}\\right]$"
      ],
      "text/plain": [
       "Matrix([\n",
       "[pi,  0,  0,  0,  0,  0,  0],\n",
       "[ 0, pi,  0,  0,  0,  0,  0],\n",
       "[ 0,  0, pi,  0,  0,  0,  0],\n",
       "[ 0,  0,  0, pi,  0,  0,  0],\n",
       "[ 0,  0,  0,  0, pi,  0,  0],\n",
       "[ 0,  0,  0,  0,  0, pi,  0],\n",
       "[ 0,  0,  0,  0,  0,  0, pi]])"
      ]
     },
     "execution_count": 12,
     "metadata": {},
     "output_type": "execute_result"
    }
   ],
   "source": [
    "import sympy as sp\n",
    "\n",
    "# 定义符号\n",
    "x = sp.symbols('x')\n",
    "r = 3  # 选择特定的 r 值进行演示\n",
    "\n",
    "# 定义向量 t^(0)(x)\n",
    "t_0 = [1 / sp.sqrt(2)]\n",
    "for i in range(1, r + 1):\n",
    "    t_0.append(sp.cos(i * x))\n",
    "    t_0.append(sp.sin(i * x))\n",
    "\n",
    "# 计算 t_0 的外积\n",
    "t_0_matrix = sp.Matrix(t_0)\n",
    "outer_product_t0 = t_0_matrix * t_0_matrix.T\n",
    "\n",
    "# 对矩阵的每个元素进行积分 [0, 2*pi]\n",
    "integrated_matrix_t0 = sp.integrate(outer_product_t0, (x, 0, 2 * sp.pi))\n",
    "\n",
    "# 简化并显示结果\n",
    "integrated_matrix_t0_simplified = integrated_matrix_t0.simplify()\n",
    "integrated_matrix_t0_simplified\n"
   ]
  },
  {
   "cell_type": "code",
   "execution_count": 18,
   "metadata": {},
   "outputs": [
    {
     "name": "stdout",
     "output_type": "stream",
     "text": [
      "2.09439875\n",
      "2.09440018\n",
      "2.0943951023931953\n"
     ]
    }
   ],
   "source": [
    "print(6.04196722 - 3.94756847)\n",
    "print(3.94756847 - 1.85316829)\n",
    "print(np.pi * 2 /3)"
   ]
  },
  {
   "cell_type": "code",
   "execution_count": 6,
   "metadata": {},
   "outputs": [
    {
     "data": {
      "text/latex": [
       "$\\displaystyle \\left[\\begin{matrix}9.0 & 0 & 0 & 0 & 0 & 0 & 0\\\\0 & 4.0 & 0 & 0 & 0 & 0 & 0\\\\0 & 0 & 1.0 & 0 & 0 & 0 & 0\\\\0 & 0 & 0 & 0 & 0 & 0 & 0\\\\0 & 0 & 0 & 0 & 1.0 & 0 & 0\\\\0 & 0 & 0 & 0 & 0 & 4.0 & 0\\\\0 & 0 & 0 & 0 & 0 & 0 & 9.0\\end{matrix}\\right]$"
      ],
      "text/plain": [
       "Matrix([\n",
       "[9.0,   0,   0, 0,   0,   0,   0],\n",
       "[  0, 4.0,   0, 0,   0,   0,   0],\n",
       "[  0,   0, 1.0, 0,   0,   0,   0],\n",
       "[  0,   0,   0, 0,   0,   0,   0],\n",
       "[  0,   0,   0, 0, 1.0,   0,   0],\n",
       "[  0,   0,   0, 0,   0, 4.0,   0],\n",
       "[  0,   0,   0, 0,   0,   0, 9.0]])"
      ]
     },
     "execution_count": 6,
     "metadata": {},
     "output_type": "execute_result"
    }
   ],
   "source": [
    "import sympy as sp\n",
    "\n",
    "# 定义符号\n",
    "i = sp.I  # 虚数单位\n",
    "r = 3\n",
    "\n",
    "# 构造矩阵 C\n",
    "C = sp.Matrix([\n",
    "    [0, 0, 0, 1/2, i/2],\n",
    "    [0, 1/2, i/2, 0, 0],\n",
    "    [1/sp.sqrt(2), 0, 0, 0, 0],\n",
    "    [0, 1/2, -i/2, 0, 0],\n",
    "    [0, 0, 0, 1/2, -i/2]\n",
    "])\n",
    "\n",
    "# 构造矩阵 C\n",
    "C = sp.Matrix([\n",
    "    [0, 0, 0, 0, 0, 1/2, i/2],\n",
    "    [0, 0, 0, 1/2, i/2, 0, 0],\n",
    "    [0, 1/2, i/2, 0, 0, 0, 0],\n",
    "    [1/sp.sqrt(2), 0, 0, 0, 0, 0, 0],\n",
    "    [0, 1/2, -i/2, 0, 0, 0, 0],\n",
    "    [0, 0, 0, 1/2, -i/2, 0, 0],\n",
    "    [0, 0, 0, 0, 0, 1/2, -i/2],\n",
    "])\n",
    "\n",
    "# C = sp.Matrix([\n",
    "#     [0, 1/2, i/2],\n",
    "#     [1/sp.sqrt(2), 0, 0],\n",
    "#     [0, 1/2, -i/2, ],\n",
    "# ])\n",
    "\n",
    "# 构造矩阵 P，使用之前提供的 weight_daigonal 函数\n",
    "def weight_daigonal(max_n):\n",
    "    diag_elements = [0]  # 从 0 开始\n",
    "    for i in range(1, max_n + 1):\n",
    "        diag_elements.extend([i**2, i**2])\n",
    "    return sp.diag(*diag_elements)\n",
    "\n",
    "# 假设 max_n 的值与矩阵 C 的大小匹配\n",
    "P = weight_daigonal(r)\n",
    "\n",
    "# 计算 2C * P * inv(C)\n",
    "result = 2 * C * P * C.H\n",
    "\n",
    "# 显示结果\n",
    "result.simplify()\n",
    "result"
   ]
  },
  {
   "cell_type": "code",
   "execution_count": 20,
   "metadata": {},
   "outputs": [
    {
     "data": {
      "text/plain": [
       "(Matrix([\n",
       " [        0, 0.5,  I/2],\n",
       " [sqrt(2)/2,   0,    0],\n",
       " [        0, 0.5, -I/2]]),\n",
       " Matrix([\n",
       " [        0,   0,  0.5,  I/2, 0],\n",
       " [      0.5, I/2,    0,    0, 0],\n",
       " [sqrt(2)/2, 0.5, -I/2,    0, 0],\n",
       " [        0,   0,    0,    0, 0],\n",
       " [        0,   0,  0.5, -I/2, 0]]))"
      ]
     },
     "execution_count": 20,
     "metadata": {},
     "output_type": "execute_result"
    }
   ],
   "source": [
    "import sympy as sp\n",
    "\n",
    "def construct_matrix_C(r):\n",
    "    size = 2*r + 1\n",
    "    C = sp.zeros(size, size)\n",
    "    C[r, 0] = 1/sp.sqrt(2)\n",
    "\n",
    "    for i in range(r):\n",
    "        C[i, r-2*i] = 1/2\n",
    "        C[i, r-2*i +1] = sp.I/2\n",
    "        C[2*i+2, i+1] = 1/2\n",
    "        C[2*i+2, i+2] = -sp.I/2\n",
    "        \n",
    "    return C\n",
    "\n",
    "# Test the function for r = 1 and r = 2\n",
    "C_r1 = construct_matrix_C(1)\n",
    "C_r2 = construct_matrix_C(2)\n",
    "\n",
    "C_r1, C_r2\n"
   ]
  },
  {
   "cell_type": "code",
   "execution_count": 18,
   "metadata": {},
   "outputs": [
    {
     "name": "stdout",
     "output_type": "stream",
     "text": [
      "0\n"
     ]
    }
   ],
   "source": [
    "for i in range(1):\n",
    "    print(i)"
   ]
  }
 ],
 "metadata": {
  "kernelspec": {
   "display_name": "RCD",
   "language": "python",
   "name": "python3"
  },
  "language_info": {
   "codemirror_mode": {
    "name": "ipython",
    "version": 3
   },
   "file_extension": ".py",
   "mimetype": "text/x-python",
   "name": "python",
   "nbconvert_exporter": "python",
   "pygments_lexer": "ipython3",
   "version": "3.10.14"
  }
 },
 "nbformat": 4,
 "nbformat_minor": 2
}
