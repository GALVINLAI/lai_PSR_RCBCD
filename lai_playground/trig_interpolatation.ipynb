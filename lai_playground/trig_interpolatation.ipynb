{
 "cells": [
  {
   "cell_type": "markdown",
   "metadata": {},
   "source": [
    "# Verifying the Consistency of Solutions to the System of Equations\n",
    "\n",
    "To verify if the solution to the system of equations\n",
    "$$\n",
    "    \\left[\\begin{array}{ccc}\n",
    "    1 & \\cos \\left(x_1\\right) & \\sin \\left(x_1\\right) \\\\\n",
    "    1 & \\cos \\left(x_2\\right) & \\sin \\left(x_2\\right) \\\\\n",
    "    1 & \\cos \\left(x_3\\right) & \\sin \\left(x_3\\right)\n",
    "    \\end{array}\\right]\\left[\\begin{array}{l}\\hat{a} \\\\ \\hat{b} \\\\ \\hat{c}\\end{array}\\right]=\\left[\\begin{array}{l}f\\left(x_1\\right) \\\\ f\\left(x_2\\right) \\\\ f\\left(x_3\\right)\\end{array}\\right]\n",
    "$$\n",
    "is always the same with different sets of $x_1, x_2, x_3$.\n",
    "\n",
    "Here’s a Python script to perform the verification and calculate the condition number of the matrix:"
   ]
  },
  {
   "cell_type": "code",
   "execution_count": 246,
   "metadata": {},
   "outputs": [
    {
     "name": "stdout",
     "output_type": "stream",
     "text": [
      "True coefficients: a = 2, b = 3, c = 1\n",
      "Estimated coefficients: a = 1.9999999999999996, b = 2.9999999999999996, c = 1.0000000000000004\n",
      "Condition number of the matrix A: 13.41\n",
      "Estimated coefficients with another set of x values: a = 2.0, b = 3.0000000000000013, c = 0.9999999999999988\n",
      "Condition number of the matrix A2: 17.96\n"
     ]
    }
   ],
   "source": [
    "import numpy as np\n",
    "\n",
    "# Test values\n",
    "a_true = 2\n",
    "b_true = 3\n",
    "c_true = 1\n",
    "print(\"True coefficients: a = {}, b = {}, c = {}\".format(a_true, b_true, c_true))\n",
    "\n",
    "def generate_data(x_values, sigma= 0.0):\n",
    "    return [a_true + b_true * np.cos(x) + c_true * np.sin(x) + np.random.randn() * sigma for x in x_values]\n",
    "\n",
    "def solve_coefficients(x_values, y_values):\n",
    "    A = np.array([[1, np.cos(x), np.sin(x)] for x in x_values])\n",
    "    b = np.array(y_values)\n",
    "    return np.linalg.solve(A, b), A\n",
    "\n",
    "# Generate random x values (distinct modulo 2*pi)\n",
    "# np.random.seed(0)  # for reproducibility\n",
    "x_values1 = np.random.uniform(0, 2*np.pi, 3) \n",
    "\n",
    "# Generate corresponding y values\n",
    "y_values1 = generate_data(x_values1)\n",
    "\n",
    "# Solve for coefficients and get the matrix\n",
    "(coeffs1, A1) = solve_coefficients(x_values1, y_values1)\n",
    "\n",
    "# Print the results\n",
    "a_hat1, b_hat1, c_hat1 = coeffs1\n",
    "print(\"Estimated coefficients: a = {}, b = {}, c = {}\".format(a_hat1, b_hat1, c_hat1))\n",
    "print(\"Condition number of the matrix A: {:.2f}\".format(np.linalg.cond(A1)))\n",
    "\n",
    "# Verify the solution with another set of random x values\n",
    "x_values2 = np.random.uniform(0, 2*np.pi, 3)\n",
    "y_values2 = generate_data(x_values2)\n",
    "(coeffs2, A2) = solve_coefficients(x_values2, y_values2)\n",
    "\n",
    "# Print the results for the second set of x values\n",
    "a_hat2, b_hat2, c_hat2 = coeffs2\n",
    "print(\"Estimated coefficients with another set of x values: a = {}, b = {}, c = {}\".format(a_hat2, b_hat2, c_hat2))\n",
    "print(\"Condition number of the matrix A2: {:.2f}\".format(np.linalg.cond(A2)))"
   ]
  },
  {
   "cell_type": "markdown",
   "metadata": {},
   "source": [
    "This script first defines a function to generate $y$ values based on given $a, b,$ and $c$. Then, it solves for the coefficients using numpy's `linalg.solve` function and calculates the condition number of the matrix $A$. Finally, it verifies the solution with two different sets of $x$ values to check if the coefficients are consistently estimated correctly.\n",
    "\n",
    "By using random values for $x$ (ensuring they are distinct modulo $2\\pi$), we can test the consistency of the system with a broader range of inputs. The numpy random seed is set for reproducibility of the results."
   ]
  },
  {
   "cell_type": "code",
   "execution_count": 247,
   "metadata": {},
   "outputs": [
    {
     "name": "stdout",
     "output_type": "stream",
     "text": [
      "True coefficients: a = 2, b = 3, c = 1\n",
      "Estimated coefficients with nosie of sigma (0.01): a = 1.9915218966205335, b = 2.997421319811407, c = 0.9964267718944375\n",
      "Estimated coefficients with nosie of sigma (0.1): a = 1.928597405598477, b = 3.184841609813071, c = 1.132983635309204\n",
      "Condition number of the matrix A2: 1.76\n"
     ]
    }
   ],
   "source": [
    "np.random.seed(1)\n",
    "\n",
    "x_values3 = np.random.uniform(0, 2*np.pi, 3)\n",
    "\n",
    "sigma_1=0.01\n",
    "y_values3_1 = generate_data(x_values3, sigma=sigma_1)\n",
    "(coeffs3_1, A3) = solve_coefficients(x_values3, y_values3_1)\n",
    "a_hat3_1, b_hat3_1, c_hat3_1 = coeffs3_1\n",
    "\n",
    "sigma_2=0.1\n",
    "y_values3_2 = generate_data(x_values3, sigma=sigma_2)\n",
    "(coeffs3_2, A3) = solve_coefficients(x_values3, y_values3_2)\n",
    "a_hat3_2, b_hat3_2, c_hat3_2 = coeffs3_2\n",
    "\n",
    "print(\"True coefficients: a = {}, b = {}, c = {}\".format(a_true, b_true, c_true))\n",
    "\n",
    "print(\"Estimated coefficients with nosie of sigma ({}): a = {}, b = {}, c = {}\".format(sigma_1, a_hat3_1, b_hat3_1, c_hat3_1))\n",
    "print(\"Estimated coefficients with nosie of sigma ({}): a = {}, b = {}, c = {}\".format(sigma_2, a_hat3_2, b_hat3_2, c_hat3_2))\n",
    "\n",
    "print(\"Condition number of the matrix A2: {:.2f}\".format(np.linalg.cond(A3)))"
   ]
  },
  {
   "cell_type": "code",
   "execution_count": 252,
   "metadata": {},
   "outputs": [
    {
     "name": "stdout",
     "output_type": "stream",
     "text": [
      "True coefficients: a = 2, b = 3, c = 1\n",
      "Estimated coefficients with nosie of sigma (0.01): a = 1.9742610225340593, b = 3.010188749921868, c = 0.9577071944803596\n",
      "Estimated coefficients with nosie of sigma (0.1): a = 3.8345056625087865, b = 4.251696900837766, c = 2.4713522660064187\n",
      "Condition number of the matrix A2: 33.86\n"
     ]
    }
   ],
   "source": [
    "np.random.seed(0)\n",
    "\n",
    "x_values4 = np.random.uniform(0, 2*np.pi, 3)\n",
    "\n",
    "sigma_1=0.01\n",
    "y_values4_1 = generate_data(x_values4, sigma=sigma_1)\n",
    "(coeffs4_1, A4) = solve_coefficients(x_values4, y_values4_1)\n",
    "a_hat4_1, b_hat4_1, c_hat4_1 = coeffs4_1\n",
    "\n",
    "sigma_2=0.1\n",
    "y_values4_2 = generate_data(x_values4, sigma=sigma_2)\n",
    "(coeffs4_2, A4) = solve_coefficients(x_values4, y_values4_2)\n",
    "a_hat4_2, b_hat4_2, c_hat4_2 = coeffs4_2\n",
    "\n",
    "print(\"True coefficients: a = {}, b = {}, c = {}\".format(a_true, b_true, c_true))\n",
    "\n",
    "print(\"Estimated coefficients with nosie of sigma ({}): a = {}, b = {}, c = {}\".format(sigma_1, a_hat4_1, b_hat4_1, c_hat4_1))\n",
    "print(\"Estimated coefficients with nosie of sigma ({}): a = {}, b = {}, c = {}\".format(sigma_2, a_hat4_2, b_hat4_2, c_hat4_2))\n",
    "\n",
    "print(\"Condition number of the matrix A2: {:.2f}\".format(np.linalg.cond(A4)))"
   ]
  }
 ],
 "metadata": {
  "kernelspec": {
   "display_name": "RCD",
   "language": "python",
   "name": "python3"
  },
  "language_info": {
   "codemirror_mode": {
    "name": "ipython",
    "version": 3
   },
   "file_extension": ".py",
   "mimetype": "text/x-python",
   "name": "python",
   "nbconvert_exporter": "python",
   "pygments_lexer": "ipython3",
   "version": "3.10.14"
  }
 },
 "nbformat": 4,
 "nbformat_minor": 2
}
