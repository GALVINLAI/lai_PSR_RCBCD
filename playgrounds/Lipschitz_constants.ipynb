{
 "cells": [
  {
   "cell_type": "code",
   "execution_count": 1,
   "id": "554a9b72-d493-410d-a443-da70b2e9762c",
   "metadata": {},
   "outputs": [
    {
     "name": "stdout",
     "output_type": "stream",
     "text": [
      "(6660, 5)\n"
     ]
    }
   ],
   "source": [
    "import scipy.io\n",
    "from numpy import linalg as LA\n",
    "import numpy as np\n",
    "\n",
    "mat = scipy.io.loadmat('pp_rcd_1.mat')\n",
    "pp = mat['pp']\n",
    "\n",
    "print(pp.shape)\n",
    "\n"
   ]
  },
  {
   "cell_type": "code",
   "execution_count": 3,
   "id": "356fd4d0-73a1-4103-8be7-c221137a5f28",
   "metadata": {},
   "outputs": [],
   "source": [
    "layer = 18\n",
    "num_p_real = 2*layer\n",
    "\n",
    "def Ls(pp,pm,mp,mm,mat_index):\n",
    "    \n",
    "    n_entry = mat_index[:,0].size\n",
    "    Hessian = np.zeros((num_p_real,num_p_real))\n",
    "    \n",
    "    for k in range(n_entry):\n",
    "        i = index[k,0]\n",
    "        j = index[k,1]\n",
    "        Hessian[i,j] = np.real(pp[k]-pm[k]-mp[k]+mm[k])\n",
    "        \n",
    "    Hessian = Hessian + np.conjugate(np.transpose(Hessian)) - np.diag(np.diag(Hessian))\n",
    "    \n",
    "    e = LA.eigvals(Hessian)\n",
    "    \n",
    "    return np.max(np.absolute(e)), np.mean(np.absolute(np.diag(Hessian))), np.max(np.absolute(np.diag(Hessian)))"
   ]
  },
  {
   "cell_type": "code",
   "execution_count": 18,
   "id": "9d767dc7-cc90-49fd-b238-591bbda35449",
   "metadata": {
    "tags": []
   },
   "outputs": [],
   "source": [
    "\n",
    "\n",
    "\n",
    "index = []\n",
    "count = -1\n",
    "for i in range(num_p_real):\n",
    "    for j in range(i,num_p_real):\n",
    "        count = count + 1 \n",
    "        index.append([i,j,count])\n",
    "        \n",
    "index = np.asarray(index)\n",
    "\n",
    "\n",
    "mat = scipy.io.loadmat('PP_RCD.mat')\n",
    "PP = mat['PP']\n",
    "\n",
    "mat = scipy.io.loadmat('PM_RCD.mat')\n",
    "PM = mat['PM']\n",
    "\n",
    "mat = scipy.io.loadmat('MP_RCD.mat')\n",
    "MP = mat['MP']\n",
    "\n",
    "mat = scipy.io.loadmat('MM_RCD.mat')\n",
    "MM = mat['MM']\n",
    "\n",
    "num_traj = 10\n",
    "num_results = 132\n",
    "num_entry = 666\n",
    "\n",
    "L2_mat = np.empty((0,num_results), int)\n",
    "Lavg_mat = np.empty((0,num_results), int)\n",
    "Lmax_mat = np.empty((0,num_results), int)\n",
    "\n",
    "\n",
    "\n",
    "\n",
    "for i in range(num_traj):\n",
    "    l2 = []\n",
    "    lavg = []\n",
    "    lmax = []\n",
    "    for j in range(num_results):\n",
    "        res_1 = PP[num_entry*i:num_entry*(i+1),j]\n",
    "        res_2 = PM[num_entry*i:num_entry*(i+1),j]\n",
    "        res_3 = MP[num_entry*i:num_entry*(i+1),j]\n",
    "        res_4 = MM[num_entry*i:num_entry*(i+1),j]\n",
    "        L2, Lavg, Lmax = Ls(res_1,res_2,res_3,res_4,index)\n",
    "        l2.append(L2)\n",
    "        lavg.append(Lavg)\n",
    "        lmax.append(Lmax)\n",
    "    l2val = np.asarray([l2])\n",
    "    L2_mat = np.append(L2_mat, l2val, axis = 0)\n",
    "    lavgval = np.asarray([lavg])\n",
    "    Lavg_mat = np.append(Lavg_mat, lavgval, axis = 0)\n",
    "    lmaxval = np.asarray([lmax])\n",
    "    Lmax_mat = np.append(Lmax_mat, lmaxval, axis = 0)\n",
    "\n",
    "scipy.io.savemat('L2_rcd.mat', {'L2_rcd': L2_mat})\n",
    "scipy.io.savemat('Lavg_rcd.mat', {'Lavg_rcd': Lavg_mat})\n",
    "scipy.io.savemat('Lmax_rcd.mat', {'Lmax_rcd': Lmax_mat})"
   ]
  },
  {
   "cell_type": "code",
   "execution_count": null,
   "id": "5dfb76f0-7eae-4ad9-8e00-fb1b2f005ed2",
   "metadata": {},
   "outputs": [],
   "source": []
  }
 ],
 "metadata": {
  "kernelspec": {
   "display_name": "NERSC Python",
   "language": "python",
   "name": "python3"
  },
  "language_info": {
   "codemirror_mode": {
    "name": "ipython",
    "version": 3
   },
   "file_extension": ".py",
   "mimetype": "text/x-python",
   "name": "python",
   "nbconvert_exporter": "python",
   "pygments_lexer": "ipython3",
   "version": "3.11.7"
  }
 },
 "nbformat": 4,
 "nbformat_minor": 5
}
