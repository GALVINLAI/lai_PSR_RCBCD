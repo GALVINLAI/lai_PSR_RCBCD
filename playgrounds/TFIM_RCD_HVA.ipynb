{
 "cells": [
  {
   "cell_type": "code",
   "execution_count": 1,
   "id": "e225199b-1b88-491d-a04d-5621b71416b9",
   "metadata": {
    "tags": []
   },
   "outputs": [
    {
     "name": "stdout",
     "output_type": "stream",
     "text": [
      "SparsePauliOp(['IIIIIIIIIX'],\n",
      "              coeffs=[1.5+0.j])\n",
      "(-16.535254946759196-1.978142558608799e-17j)\n",
      "19\n",
      "IIIIIIIIZZ\n"
     ]
    }
   ],
   "source": [
    "\n",
    "import numpy as np\n",
    "import scipy.io\n",
    "import matplotlib.pyplot as plt\n",
    "from numpy import linalg as LA\n",
    "from qiskit.circuit import ParameterVector\n",
    "from qiskit.quantum_info import SparsePauliOp\n",
    "from qiskit.quantum_info.operators import Operator\n",
    "from qiskit import Aer, transpile\n",
    "from qiskit.circuit import QuantumCircuit\n",
    "from qiskit.tools.visualization import plot_histogram\n",
    "from IPython.display import clear_output\n",
    "from scipy.sparse.linalg import eigs\n",
    "from scipy import sparse\n",
    "import math\n",
    "\n",
    "num_q = 10\n",
    "J = 1\n",
    "Delta = 1.5\n",
    "List_1 = []\n",
    "op = \"\"\n",
    "for i in range(num_q-1):\n",
    "    op = \"\"\n",
    "    for k in range(i):\n",
    "        op += \"I\"\n",
    "    op += \"ZZ\"\n",
    "    for k in range(i+1,num_q-1):\n",
    "        op += \"I\"\n",
    "    List_1.append(op)\n",
    "\n",
    "List_1.reverse()\n",
    "H1 = SparsePauliOp(List_1, J*np.ones(num_q-1))  \n",
    "\n",
    "List_2 = []\n",
    "op = \"\"\n",
    "for i in range(num_q):\n",
    "    op = \"\"\n",
    "    for k in range(i):\n",
    "        op += \"I\"\n",
    "    op += \"X\"\n",
    "    for k in range(i+1,num_q):\n",
    "        op += \"I\"\n",
    "    List_2.append(op)\n",
    "H2 = SparsePauliOp(List_2, Delta*np.ones(num_q))\n",
    "\n",
    "H = SparsePauliOp.sum([H1,H2])\n",
    "\n",
    "# Ordering e.g. IIIIIIZZ is the measurement of Z gates on the first two qubits and so forth.\n",
    "\n",
    "Hmat = Operator(H)\n",
    "Hmat = sparse.csr_matrix(Hmat)\n",
    "\n",
    "e, v = eigs(Hmat,k=20)\n",
    "#e, v = LA.eig(Hmat)\n",
    "min_index = np.argmin(e)\n",
    "v_min = v[:,min_index]\n",
    "ground_e = np.min(e)\n",
    "print(H[-1])\n",
    "print(np.min(e))\n",
    "print(H.size)\n",
    "print(H.paulis[0])\n"
   ]
  },
  {
   "cell_type": "code",
   "execution_count": 2,
   "id": "e8a1cf3a-882b-4eaa-869d-d9a6c2b77ca4",
   "metadata": {
    "tags": []
   },
   "outputs": [],
   "source": [
    "\n",
    "\n",
    "\"\"\"circuit construction\"\"\"\n",
    "\n",
    "layer = 20\n",
    "num_p = (2*num_q-1)*layer\n",
    "\n",
    "weights = ParameterVector(\"weight\",num_p)\n",
    "\n",
    "\n",
    "def circuit_ex(weights):\n",
    "    circ = QuantumCircuit(num_q, num_q)\n",
    "    \n",
    "    for j in range(num_q):\n",
    "        circ.ry(np.pi/2*3,j)\n",
    "        \n",
    "    for i in range(layer):\n",
    "        \n",
    "        for j in range(int(num_q/2)):\n",
    "            circ.rzz(weights[j+(2*num_q-1)*i],2*j,2*j+1)\n",
    "        for j in range(int(num_q/2)-1):\n",
    "            circ.rzz(weights[j+int(num_q/2)+(2*num_q-1)*i], 2*j+1, 2*j+2)\n",
    "        for j in range(num_q):\n",
    "            circ.rx(weights[j+num_q-1+(2*num_q-1)*i], j)\n",
    "        \n",
    "        \n",
    "    return circ\n"
   ]
  },
  {
   "cell_type": "code",
   "execution_count": 3,
   "id": "11d25703-3168-4d73-975e-7fb444a2c674",
   "metadata": {
    "tags": []
   },
   "outputs": [],
   "source": [
    "\n",
    "simulator = Aer.get_backend('aer_simulator')\n",
    "\n",
    "def weight_converter(WEIGHTS):\n",
    "    weight_long = []\n",
    "    for j in range(2*layer):\n",
    "        if j % 2 == 0:\n",
    "            for i in range(num_q-1):\n",
    "                weight_long.append(WEIGHTS[j])\n",
    "        else:\n",
    "            for i in range(num_q):\n",
    "                weight_long.append(WEIGHTS[j])\n",
    "    \n",
    "    return weight_long\n",
    "\n",
    "\n",
    "def estimate_loss(WEIGHT_long, SHOTS):\n",
    "    estimate = 0\n",
    "    qc = circuit_ex(WEIGHT_long)\n",
    "    qc = transpile(qc, simulator)\n",
    "    ind = list(range(num_q))\n",
    "    rind = ind\n",
    "    rind.reverse()\n",
    "    qc.measure(ind, rind)\n",
    "    result = simulator.run(qc, shots = SHOTS, memory=True).result()\n",
    "    c = result.get_memory(qc) ## output distribution of 0 and 1\n",
    "    for i in range(SHOTS):\n",
    "        for j in range(num_q-1):\n",
    "            if c[i][num_q-1-j] == c[i][num_q-1-(j+1)]:\n",
    "                estimate += 1\n",
    "            else:\n",
    "                estimate += -1\n",
    "    estimate = J*estimate/SHOTS\n",
    "    \n",
    "    estimate_1 = 0\n",
    "    qc = circuit_ex(WEIGHT_long)\n",
    "    for i in range(num_q):\n",
    "        qc.h(i)\n",
    "    qc = transpile(qc, simulator)\n",
    "    ind = list(range(num_q))\n",
    "    rind = ind\n",
    "    rind.reverse()\n",
    "    qc.measure(ind, rind)\n",
    "    result = simulator.run(qc, shots = SHOTS, memory=True).result()\n",
    "    c = result.get_memory(qc)\n",
    "    for i in range(SHOTS):\n",
    "        for j in range(num_q):\n",
    "            if c[i][num_q-1-j] == '0':\n",
    "                estimate_1 += 1\n",
    "            else:\n",
    "                estimate_1 += -1\n",
    "    estimate_1 = Delta*estimate_1/SHOTS\n",
    "    return estimate+estimate_1\n",
    "\n",
    "def parameter_shift(WEIGHTS, INDEX, SHOTS):\n",
    "    WEIGHT_long = weight_converter(WEIGHTS)\n",
    "    identity = np.identity(num_p)\n",
    "    g = 0\n",
    "    if INDEX % 2 == 0: #ZZ layer\n",
    "        #INDEX_new = int(INDEX/2)*(2*num_q-1)\n",
    "        #direction_index = np.pi/2 *identity[:,INDEX_new]\n",
    "        INDEX_new = int(INDEX/2)*(2*num_q-1) + np.random.randint(0,num_q-1,1)\n",
    "        direction_index = np.pi/2 *identity[:,INDEX_new]\n",
    "        g_p = estimate_loss((WEIGHT_long+direction_index.flatten()), SHOTS)\n",
    "        g_m = estimate_loss((WEIGHT_long-direction_index.flatten()), SHOTS)\n",
    "        g = (num_q-1)*0.5*(g_p-g_m)   \n",
    "    else: ## X sum\n",
    "        #INDEX_new = int(np.floor(INDEX/2))*(2*num_q-1)+num_q-1\n",
    "        #direction_index = np.pi/2 *identity[:,INDEX]\n",
    "        INDEX_new = int(np.floor(INDEX/2))*(2*num_q-1)+num_q-1 + np.random.randint(0,num_q,1)\n",
    "        direction_index = np.pi/2 *identity[:,INDEX_new]\n",
    "        g_p = estimate_loss((WEIGHT_long+direction_index.flatten()), SHOTS)\n",
    "        g_m = estimate_loss((WEIGHT_long-direction_index.flatten()), SHOTS)\n",
    "        g = num_q*0.5*(g_p-g_m) ## parameter shift rule with eigenvalues +-0.5\n",
    "\n",
    "    return g\n",
    "\n",
    "def expectation_loss(WEIGHTS):\n",
    "    WEIGHT_long = weight_converter(WEIGHTS)\n",
    "    qc = circuit_ex(WEIGHT_long)\n",
    "    qc.save_statevector()\n",
    "    qc = transpile(qc, simulator)\n",
    "    result = simulator.run(qc).result()\n",
    "    state_vector = result.get_statevector(qc)\n",
    "    psi = np.asarray(state_vector)\n",
    "    Hpsi = Hmat.dot(psi)\n",
    "    expectation = np.inner(np.conjugate(psi),Hpsi)\n",
    "    return np.real(expectation)\n",
    "\n",
    "def fidelity(WEIGHTS):\n",
    "    WEIGHT_long = weight_converter(WEIGHTS)\n",
    "    qc = circuit_ex(WEIGHT_long)\n",
    "    qc.save_statevector()\n",
    "    qc = transpile(qc, simulator)\n",
    "    result = simulator.run(qc).result()\n",
    "    state_vector = result.get_statevector(qc)\n",
    "    psi = np.asarray(state_vector)\n",
    "    return np.absolute(np.vdot(psi,v_min))**2"
   ]
  },
  {
   "cell_type": "code",
   "execution_count": 15,
   "id": "389404fb-9363-4165-bf7f-34af7582f933",
   "metadata": {
    "tags": []
   },
   "outputs": [
    {
     "name": "stdout",
     "output_type": "stream",
     "text": [
      "Loss and Fidelity: -16.241682625605165 0.9501069091725499\n"
     ]
    },
    {
     "data": {
      "image/png": "[encoded data removed]",
      "text/plain": [
       "<Figure size 640x480 with 1 Axes>"
      ]
     },
     "metadata": {},
     "output_type": "display_data"
    }
   ],
   "source": [
    "\"\"\"optimization phase\"\"\"\n",
    "\n",
    "\n",
    "\n",
    "\"\"\"initialization of weights\"\"\"\n",
    "mat = scipy.io.loadmat('w0')\n",
    "w0 = mat['w0']\n",
    "\n",
    "num_p_real = 2*layer\n",
    "\n",
    "initial_weights = np.zeros(num_p_real) #np.ones(num_p)\n",
    "initial_weights[:10] = w0.flatten()\n",
    "\n",
    "T = 800\n",
    "n_shot = 100\n",
    "gamma = 0.101\n",
    "c = 0.2\n",
    "\n",
    "identity = np.identity(num_p_real)\n",
    "num_results = 2\n",
    "cost_mat = np.empty((0,T), int)\n",
    "fidelity_mat = np.empty((0,T), int)\n",
    "weight_mat = np.empty((0,T), int)\n",
    "F = 0\n",
    "loss = 0 \n",
    "\n",
    "for k in range(num_results):\n",
    "    cost = []\n",
    "    cost_f = []\n",
    "    Weights = []\n",
    "    weights = initial_weights\n",
    "    iteration = 0\n",
    "    while iteration < T:\n",
    "        a = 0.01\n",
    "        iteration = iteration + 1\n",
    "        #c_iter = c/(iteration + 1)**gamma\n",
    "        gradient = 0\n",
    "        index = np.random.randint(0,num_p_real,1)\n",
    "        gradient = parameter_shift(weights, index, n_shot) \n",
    "        v = identity[:,index].flatten()\n",
    "        weights = weights - a*(gradient*v)#*c_iter\n",
    "        Weights.append(weights)\n",
    "        \n",
    "        \n",
    "        loss = expectation_loss(weights)\n",
    "        F = fidelity(weights)\n",
    "        clear_output(wait=True)\n",
    "        print('Loss and Fidelity:',loss, fidelity(weights))\n",
    "        plt.plot(cost)\n",
    "        plt.xlabel('iteration')\n",
    "        plt.title('RCD')\n",
    "        plt.show()\n",
    "        cost.append(loss.flatten())\n",
    "        cost_f.append(F.flatten()) \n",
    "    Cost = np.asarray(cost)\n",
    "    WEIGHTS = np.asarray(Weights)\n",
    "    FIDELITY = np.asarray(cost_f)\n",
    "    cost_mat = np.append(cost_mat, np.transpose(Cost), axis = 0)\n",
    "    weight_mat = np.append(weight_mat, np.transpose(WEIGHTS), axis = 0)\n",
    "    fidelity_mat = np.append(fidelity_mat, np.transpose(FIDELITY), axis = 0)\n",
    "    \n",
    "    \n",
    "scipy.io.savemat('rcdm_loss.mat', {'rcdm_loss': cost_mat})\n",
    "scipy.io.savemat('rcdm_weight.mat', {'rcdm_weight': weight_mat})\n",
    "scipy.io.savemat('rcdm_fidelity.mat', {'rcdm_fidelity': fidelity_mat})\n",
    "\n",
    "#plt.plot(cost)\n",
    "#plt.xlabel('iteration')\n",
    "#plt.title('RCD')\n",
    "#plt.show()"
   ]
  },
  {
   "cell_type": "code",
   "execution_count": 14,
   "id": "b089476f-249d-45eb-81f2-e57038e5ff9f",
   "metadata": {
    "tags": []
   },
   "outputs": [
    {
     "name": "stdout",
     "output_type": "stream",
     "text": [
      "[ 0.63502  0.90192  1.23709  0.20096  0.84695  1.42408  1.08909  0.62072\n",
      "  0.83501  0.47424 -0.65736 -0.4528  -0.0738   0.2928   0.1368  -0.4232\n",
      " -0.27    -0.8192   0.05184 -0.2244   0.20304  0.       0.1116  -0.1376\n",
      "  0.       0.0092   0.       0.       0.07884  0.2608  -0.12564 -0.3008\n",
      "  0.12168  0.       0.27648 -0.2648   0.0738   0.       0.07992  0.4248 ]\n"
     ]
    }
   ],
   "source": [
    "print(weights)"
   ]
  },
  {
   "cell_type": "code",
   "execution_count": null,
   "id": "965570c9-b3e4-4e37-a10f-f026f908fb30",
   "metadata": {},
   "outputs": [
    {
     "name": "stdout",
     "output_type": "stream",
     "text": [
      "0\n"
     ]
    }
   ],
   "source": [
    "import time\n",
    "\n",
    "mat = scipy.io.loadmat('rcdm_weight_1.mat')\n",
    "ws = mat['rcdm_weight_1']\n",
    "weights = ws[:num_p,-1]\n",
    "\n",
    "num_sample = 10000\n",
    "M = np.zeros([10,num_sample])\n",
    "SHOT = 1000\n",
    "for i in range(10):\n",
    "    print(i)\n",
    "    \n",
    "    for j in range(num_sample):\n",
    "        \n",
    "        M[i,j] = parameter_shift(weights, i, SHOT) ## sample partial derivative estimate \n",
    "        \n",
    "            \n",
    "scipy.io.savemat('noise_1.mat',{'M_1':M})"
   ]
  },
  {
   "cell_type": "code",
   "execution_count": 12,
   "id": "1075cc48-2426-4dbc-b431-e552567c47e9",
   "metadata": {},
   "outputs": [
    {
     "data": {
      "text/plain": [
       "0.8889888035718432"
      ]
     },
     "execution_count": 12,
     "metadata": {},
     "output_type": "execute_result"
    }
   ],
   "source": [
    "## plot measurements of partial derivative\n",
    "mat = scipy.io.loadmat('noise_1.mat')\n",
    "M_1 = mat['M_1']\n",
    "\n",
    "\n",
    "index = 0 ## direction\n",
    "\n",
    "\n",
    "plt.hist(M_1[index,:], density=True, bins=50)\n",
    "print('standard deviation:',np.sqrt(np.var(M[index,:])))\n",
    "print('Mean:',np.mean(M[index,:]))"
   ]
  }
 ],
 "metadata": {
  "kernelspec": {
   "display_name": "NERSC Python",
   "language": "python",
   "name": "python3"
  },
  "language_info": {
   "codemirror_mode": {
    "name": "ipython",
    "version": 3
   },
   "file_extension": ".py",
   "mimetype": "text/x-python",
   "name": "python",
   "nbconvert_exporter": "python",
   "pygments_lexer": "ipython3",
   "version": "3.11.7"
  }
 },
 "nbformat": 4,
 "nbformat_minor": 5
}
